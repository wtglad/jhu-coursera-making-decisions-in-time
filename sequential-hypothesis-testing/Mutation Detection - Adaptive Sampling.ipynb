{
 "cells": [
  {
   "cell_type": "markdown",
   "metadata": {
    "nbgrader": {
     "grade": false,
     "grade_id": "cell-7d0434398076f5ce",
     "locked": true,
     "schema_version": 3,
     "solution": false,
     "task": false
    }
   },
   "source": [
    "# Adaptive Sampling Methods for Mutation Detection in DNA Sequences\n",
    "\n",
    "In the field of genomics, one of the most crucial tasks is identifying and characterizing mutations in DNA sequences. These mutations can lead to various diseases including cancers, neurological disorders, and genetic abnormalities. Fast and accurate detection of these mutations can provide crucial information for understanding the genetic basis of these diseases and for designing effective therapies.\n",
    "\n",
    "In this Python programming assignment, you are tasked to develop a tool that uses adaptive sampling methods for mutation detection in DNA sequences. The methods are based on one of the readings you read in week 3: [Gan, K., Jia, S., Li, A., & Tayur, S. R. (2021). Toward a Liquid Biopsy: Greedy Approximation Algorithms for Active Sequential Hypothesis Testing](https://papers.ssrn.com/sol3/papers.cfm?abstract_id=3894600)\n",
    "\n",
    "The authors' basic idea is that early detection of cancer would have a tremendous impact in improving survival rates of cancer, and their goal is to develop a liquid biopsy capable of detecting cancerous mutations in DNA sequenced from a blood sample. This is currently not possible, but they argue that with computational and algorithmic improvements this method might be achievable in the near future. It is indeed the subject of active research by several academic and industrial research labs.\n",
    "\n",
    "In their approach, an algorithmic learner seeks to **identify the true hypothesis from a known set of hypotheses using the fewest number of actions**. In this assignment, we want to identify the true presence of a given harmful mutation from a known set of harmful mutations, using the smallest sample of data possible. In reality, sequencing and analyzing genetic data is expensive, and a blood-based biopsy that tested every possible mutation vs every possible position in a DNA sequence would be prohibitively expensive. In order for a test like this to be commercially viable, it would have to know which mutations / sequence positions to prioritize. Adaptive sampling is a strategy that can select and focus on important samples, thereby increasing the efficiency and accuracy of mutation detection. This technique can help save computational resources by focusing on the regions of the DNA sequence that are most likely to contain mutations, rather than analyzing the entire sequence.\n",
    "\n",
    "Because there is quite a bit of relevant biology background knowledge required to study this problem in detail, in this assignment, we will use a simplified synthetic dataset to understand how active sequential hypothesis testing can assist in detecting different mutations. You will be provided with a set of simulated DNA sequence data, including sequences with both harmful as well as benign mutations introduced at random locations.\n",
    "\n",
    "Let's begin!"
   ]
  },
  {
   "cell_type": "markdown",
   "metadata": {
    "nbgrader": {
     "grade": false,
     "grade_id": "cell-695f2ff2c193fe41",
     "locked": true,
     "schema_version": 3,
     "solution": false,
     "task": false
    }
   },
   "source": [
    "## Setting up our problem and taking an initial look at the data\n",
    "\n",
    "We start by importing the packages we need, and then read in a \"base sequence\" that provides a baseline to compare mutations against. Generally speaking, all human DNA is mostly almost the same, with very small variations representing natural mutation variation. "
   ]
  },
  {
   "cell_type": "code",
   "execution_count": 1,
   "metadata": {
    "nbgrader": {
     "grade": false,
     "grade_id": "cell-b5be327b72f2a5ca",
     "locked": true,
     "schema_version": 3,
     "solution": false,
     "task": false
    },
    "scrolled": false
   },
   "outputs": [],
   "source": [
    "import pandas as pd\n",
    "import seaborn as sns\n",
    "import matplotlib.pyplot as plt\n",
    "import random\n",
    "from progressbar import ProgressBar\n",
    "from sklearn.metrics import f1_score\n",
    "import numpy as np"
   ]
  },
  {
   "cell_type": "code",
   "execution_count": 2,
   "metadata": {
    "nbgrader": {
     "grade": false,
     "grade_id": "cell-22aae18fdb5dcb34",
     "locked": true,
     "schema_version": 3,
     "solution": false,
     "task": false
    }
   },
   "outputs": [],
   "source": [
    "with open('base_sequence.txt', \"r\") as text_file:\n",
    "    base_sequence = text_file.readlines()[0]"
   ]
  },
  {
   "cell_type": "markdown",
   "metadata": {
    "nbgrader": {
     "grade": false,
     "grade_id": "cell-0da8cdc4851e7ea8",
     "locked": true,
     "schema_version": 3,
     "solution": false,
     "task": false
    }
   },
   "source": [
    "This is what a snippet of the sequence looks like - it is a 10,000 character sequence of randomly generated nucleotides (adenine (A), cytosine (C), guanine (G) and thymine (T)). "
   ]
  },
  {
   "cell_type": "code",
   "execution_count": 3,
   "metadata": {
    "nbgrader": {
     "grade": false,
     "grade_id": "cell-1a1f9679bc2dbe70",
     "locked": true,
     "schema_version": 3,
     "solution": false,
     "task": false
    }
   },
   "outputs": [
    {
     "data": {
      "text/plain": [
       "'CGGGGAGGCGTGCCACCCATTATAGGAGGCGAAAAAGGATAAGGGGTTCG'"
      ]
     },
     "execution_count": 3,
     "metadata": {},
     "output_type": "execute_result"
    }
   ],
   "source": [
    "base_sequence[:50]"
   ]
  },
  {
   "cell_type": "code",
   "execution_count": 4,
   "metadata": {
    "nbgrader": {
     "grade": false,
     "grade_id": "cell-2b6aa93b555ef1b2",
     "locked": true,
     "schema_version": 3,
     "solution": false,
     "task": false
    }
   },
   "outputs": [
    {
     "data": {
      "text/plain": [
       "10000"
      ]
     },
     "execution_count": 4,
     "metadata": {},
     "output_type": "execute_result"
    }
   ],
   "source": [
    "len(base_sequence)"
   ]
  },
  {
   "cell_type": "markdown",
   "metadata": {
    "nbgrader": {
     "grade": false,
     "grade_id": "cell-9b253c3d1c1b2a2d",
     "locked": true,
     "schema_version": 3,
     "solution": false,
     "task": false
    }
   },
   "source": [
    "Next we load a set of mutations generated randomly. Generally speaking, \"mutations\" correspond to different subsequences on the base sequence, but there are further variations within these mutations. In our example, we have 20 different mutations of length 50, but each mutation has 100 different variations, so there are 2000 possible mutation/variation combinations to test for. These were generated by taking the base sequence, selecting substrings of length 50 from randomly generated mutation indices, and changing individual nucleotides randomly with a probability of 5% to create the variations. \n",
    "\n",
    "In reality, there were some instances where either the variation was the same as the base sequence or there were otherwise duplicates, so we did not end up with the full set of 2000. \n",
    "\n",
    "For any given variation, there was a 5% chance it would be considered \"harmful\". We can take a look at what those look like:"
   ]
  },
  {
   "cell_type": "code",
   "execution_count": 5,
   "metadata": {
    "nbgrader": {
     "grade": false,
     "grade_id": "cell-9b23a6ad4c432eeb",
     "locked": true,
     "schema_version": 3,
     "solution": false,
     "task": false
    }
   },
   "outputs": [],
   "source": [
    "mutations_df = pd.read_csv('mutation_variants.csv')"
   ]
  },
  {
   "cell_type": "code",
   "execution_count": 6,
   "metadata": {
    "nbgrader": {
     "grade": false,
     "grade_id": "cell-bcb48fb926342587",
     "locked": true,
     "schema_version": 3,
     "solution": false,
     "task": false
    }
   },
   "outputs": [
    {
     "data": {
      "text/html": [
       "<div>\n",
       "<style scoped>\n",
       "    .dataframe tbody tr th:only-of-type {\n",
       "        vertical-align: middle;\n",
       "    }\n",
       "\n",
       "    .dataframe tbody tr th {\n",
       "        vertical-align: top;\n",
       "    }\n",
       "\n",
       "    .dataframe thead th {\n",
       "        text-align: right;\n",
       "    }\n",
       "</style>\n",
       "<table border=\"1\" class=\"dataframe\">\n",
       "  <thead>\n",
       "    <tr style=\"text-align: right;\">\n",
       "      <th></th>\n",
       "      <th>mutation_id</th>\n",
       "      <th>mutation_variant</th>\n",
       "      <th>mutation_start</th>\n",
       "      <th>mutation_end</th>\n",
       "      <th>full_mutated_sequence</th>\n",
       "      <th>mutated_subsequence</th>\n",
       "      <th>harmful</th>\n",
       "    </tr>\n",
       "  </thead>\n",
       "  <tbody>\n",
       "    <tr>\n",
       "      <th>0</th>\n",
       "      <td>1</td>\n",
       "      <td>0</td>\n",
       "      <td>3301</td>\n",
       "      <td>3351</td>\n",
       "      <td>CGGGGAGGCGTGCCACCCATTATAGGAGGCGAAAAAGGATAAGGGG...</td>\n",
       "      <td>GGCTTACCACTACACCTCACAATAGAGTTGAACGTCAAATTCAGTT...</td>\n",
       "      <td>False</td>\n",
       "    </tr>\n",
       "    <tr>\n",
       "      <th>1</th>\n",
       "      <td>1</td>\n",
       "      <td>1</td>\n",
       "      <td>3301</td>\n",
       "      <td>3351</td>\n",
       "      <td>CGGGGAGGCGTGCCACCCATTATAGGAGGCGAAAAAGGATAAGGGG...</td>\n",
       "      <td>GGCTTTCCACTACACCTCACAATAGAGTTGAACGTCAAATTCAGTT...</td>\n",
       "      <td>False</td>\n",
       "    </tr>\n",
       "    <tr>\n",
       "      <th>2</th>\n",
       "      <td>1</td>\n",
       "      <td>3</td>\n",
       "      <td>3301</td>\n",
       "      <td>3351</td>\n",
       "      <td>CGGGGAGGCGTGCCACCCATTATAGGAGGCGAAAAAGGATAAGGGG...</td>\n",
       "      <td>GGCTTACCACTACACCTCACAATTGAGTTGAACGTCAAATTCAGTT...</td>\n",
       "      <td>False</td>\n",
       "    </tr>\n",
       "    <tr>\n",
       "      <th>3</th>\n",
       "      <td>1</td>\n",
       "      <td>4</td>\n",
       "      <td>3301</td>\n",
       "      <td>3351</td>\n",
       "      <td>CGGGGAGGCGTGCCACCCATTATAGGAGGCGAAAAAGGATAAGGGG...</td>\n",
       "      <td>GGCTTACCACTACACCTCACAATTGAGTTCAACGTCCAATTCAGTT...</td>\n",
       "      <td>False</td>\n",
       "    </tr>\n",
       "    <tr>\n",
       "      <th>4</th>\n",
       "      <td>1</td>\n",
       "      <td>5</td>\n",
       "      <td>3301</td>\n",
       "      <td>3351</td>\n",
       "      <td>CGGGGAGGCGTGCCACCCATTATAGGAGGCGAAAAAGGATAAGGGG...</td>\n",
       "      <td>GGCCTACCACTACACCTCACAATTGAGTTGAACGTCAAATACAGTC...</td>\n",
       "      <td>False</td>\n",
       "    </tr>\n",
       "    <tr>\n",
       "      <th>...</th>\n",
       "      <td>...</td>\n",
       "      <td>...</td>\n",
       "      <td>...</td>\n",
       "      <td>...</td>\n",
       "      <td>...</td>\n",
       "      <td>...</td>\n",
       "      <td>...</td>\n",
       "    </tr>\n",
       "    <tr>\n",
       "      <th>1804</th>\n",
       "      <td>20</td>\n",
       "      <td>95</td>\n",
       "      <td>198</td>\n",
       "      <td>248</td>\n",
       "      <td>CGGGGAGGCGTGCCACCCATTATAGGAGGCGAAAAAGGATAAGGGG...</td>\n",
       "      <td>CTTGAGACCTTAGTCCGTCATCAACACTTTTACCAGACGTTGAATT...</td>\n",
       "      <td>False</td>\n",
       "    </tr>\n",
       "    <tr>\n",
       "      <th>1805</th>\n",
       "      <td>20</td>\n",
       "      <td>96</td>\n",
       "      <td>198</td>\n",
       "      <td>248</td>\n",
       "      <td>CGGGGAGGCGTGCCACCCATTATAGGAGGCGAAAAAGGATAAGGGG...</td>\n",
       "      <td>CTTGAGACCTTAGTCCGTCATCAACACTTATACCAGACGTGTACTT...</td>\n",
       "      <td>False</td>\n",
       "    </tr>\n",
       "    <tr>\n",
       "      <th>1806</th>\n",
       "      <td>20</td>\n",
       "      <td>97</td>\n",
       "      <td>198</td>\n",
       "      <td>248</td>\n",
       "      <td>CGGGGAGGCGTGCCACCCATTATAGGAGGCGAAAAAGGATAAGGGG...</td>\n",
       "      <td>CGTGAGACCTCAGTCCGTCATCAACACTTTAACCAGACGTAGAATT...</td>\n",
       "      <td>False</td>\n",
       "    </tr>\n",
       "    <tr>\n",
       "      <th>1807</th>\n",
       "      <td>20</td>\n",
       "      <td>98</td>\n",
       "      <td>198</td>\n",
       "      <td>248</td>\n",
       "      <td>CGGGGAGGCGTGCCACCCATTATAGGAGGCGAAAAAGGATAAGGGG...</td>\n",
       "      <td>GTTGAGACCTTAGTCCGTCATCAACACTTTTACCAGACGTAGAATT...</td>\n",
       "      <td>False</td>\n",
       "    </tr>\n",
       "    <tr>\n",
       "      <th>1808</th>\n",
       "      <td>20</td>\n",
       "      <td>99</td>\n",
       "      <td>198</td>\n",
       "      <td>248</td>\n",
       "      <td>CGGGGAGGCGTGCCACCCATTATAGGAGGCGAAAAAGGATAAGGGG...</td>\n",
       "      <td>CTTGAGACCTTAGTCCGTCATCATCACTTATACCAGACGTAGAAGT...</td>\n",
       "      <td>True</td>\n",
       "    </tr>\n",
       "  </tbody>\n",
       "</table>\n",
       "<p>1809 rows × 7 columns</p>\n",
       "</div>"
      ],
      "text/plain": [
       "      mutation_id  mutation_variant  mutation_start  mutation_end  \\\n",
       "0               1                 0            3301          3351   \n",
       "1               1                 1            3301          3351   \n",
       "2               1                 3            3301          3351   \n",
       "3               1                 4            3301          3351   \n",
       "4               1                 5            3301          3351   \n",
       "...           ...               ...             ...           ...   \n",
       "1804           20                95             198           248   \n",
       "1805           20                96             198           248   \n",
       "1806           20                97             198           248   \n",
       "1807           20                98             198           248   \n",
       "1808           20                99             198           248   \n",
       "\n",
       "                                  full_mutated_sequence  \\\n",
       "0     CGGGGAGGCGTGCCACCCATTATAGGAGGCGAAAAAGGATAAGGGG...   \n",
       "1     CGGGGAGGCGTGCCACCCATTATAGGAGGCGAAAAAGGATAAGGGG...   \n",
       "2     CGGGGAGGCGTGCCACCCATTATAGGAGGCGAAAAAGGATAAGGGG...   \n",
       "3     CGGGGAGGCGTGCCACCCATTATAGGAGGCGAAAAAGGATAAGGGG...   \n",
       "4     CGGGGAGGCGTGCCACCCATTATAGGAGGCGAAAAAGGATAAGGGG...   \n",
       "...                                                 ...   \n",
       "1804  CGGGGAGGCGTGCCACCCATTATAGGAGGCGAAAAAGGATAAGGGG...   \n",
       "1805  CGGGGAGGCGTGCCACCCATTATAGGAGGCGAAAAAGGATAAGGGG...   \n",
       "1806  CGGGGAGGCGTGCCACCCATTATAGGAGGCGAAAAAGGATAAGGGG...   \n",
       "1807  CGGGGAGGCGTGCCACCCATTATAGGAGGCGAAAAAGGATAAGGGG...   \n",
       "1808  CGGGGAGGCGTGCCACCCATTATAGGAGGCGAAAAAGGATAAGGGG...   \n",
       "\n",
       "                                    mutated_subsequence  harmful  \n",
       "0     GGCTTACCACTACACCTCACAATAGAGTTGAACGTCAAATTCAGTT...    False  \n",
       "1     GGCTTTCCACTACACCTCACAATAGAGTTGAACGTCAAATTCAGTT...    False  \n",
       "2     GGCTTACCACTACACCTCACAATTGAGTTGAACGTCAAATTCAGTT...    False  \n",
       "3     GGCTTACCACTACACCTCACAATTGAGTTCAACGTCCAATTCAGTT...    False  \n",
       "4     GGCCTACCACTACACCTCACAATTGAGTTGAACGTCAAATACAGTC...    False  \n",
       "...                                                 ...      ...  \n",
       "1804  CTTGAGACCTTAGTCCGTCATCAACACTTTTACCAGACGTTGAATT...    False  \n",
       "1805  CTTGAGACCTTAGTCCGTCATCAACACTTATACCAGACGTGTACTT...    False  \n",
       "1806  CGTGAGACCTCAGTCCGTCATCAACACTTTAACCAGACGTAGAATT...    False  \n",
       "1807  GTTGAGACCTTAGTCCGTCATCAACACTTTTACCAGACGTAGAATT...    False  \n",
       "1808  CTTGAGACCTTAGTCCGTCATCATCACTTATACCAGACGTAGAAGT...     True  \n",
       "\n",
       "[1809 rows x 7 columns]"
      ]
     },
     "execution_count": 6,
     "metadata": {},
     "output_type": "execute_result"
    }
   ],
   "source": [
    "mutations_df"
   ]
  },
  {
   "cell_type": "code",
   "execution_count": 7,
   "metadata": {
    "nbgrader": {
     "grade": false,
     "grade_id": "cell-5a3bc8738bd38bb0",
     "locked": true,
     "schema_version": 3,
     "solution": false,
     "task": false
    }
   },
   "outputs": [
    {
     "data": {
      "text/plain": [
       "False    1730\n",
       "True       79\n",
       "Name: harmful, dtype: int64"
      ]
     },
     "execution_count": 7,
     "metadata": {},
     "output_type": "execute_result"
    }
   ],
   "source": [
    "mutations_df['harmful'].value_counts()"
   ]
  },
  {
   "cell_type": "code",
   "execution_count": 8,
   "metadata": {
    "nbgrader": {
     "grade": false,
     "grade_id": "cell-e5ba97a204de62e3",
     "locked": true,
     "schema_version": 3,
     "solution": false,
     "task": false
    }
   },
   "outputs": [
    {
     "name": "stdout",
     "output_type": "stream",
     "text": [
      "4.367054 % of mutations considered harmful\n"
     ]
    }
   ],
   "source": [
    "print('%f %% of mutations considered harmful'%(len(mutations_df[mutations_df['harmful']]) * 100 / len(mutations_df))) "
   ]
  },
  {
   "cell_type": "markdown",
   "metadata": {
    "nbgrader": {
     "grade": false,
     "grade_id": "cell-46fe4548b177a615",
     "locked": true,
     "schema_version": 3,
     "solution": false,
     "task": false
    }
   },
   "source": [
    "Note that in our simplified example, there can be overlap between different mutations, and thus there is theoretically the possibility that even if we could build a perfect detector there would be false positives. This is not very different from reality! This is a very hard problem...\n",
    "\n",
    "To generate a patient sample, we took this dataset, randomly sampled 1000 variations, and introduced noise by iterating through the sequence and changing nucleotides at a probability of 1%. This does simplify it a bit from reality, as each patient should theoretically only have 1 mutation (setting aside the potential overlap between mutations issue). "
   ]
  },
  {
   "cell_type": "code",
   "execution_count": 9,
   "metadata": {
    "nbgrader": {
     "grade": false,
     "grade_id": "cell-53b06ba004c272d7",
     "locked": true,
     "schema_version": 3,
     "solution": false,
     "task": false
    }
   },
   "outputs": [],
   "source": [
    "patient_sample = pd.read_csv('patient_sample_with_noisy_values.csv')"
   ]
  },
  {
   "cell_type": "code",
   "execution_count": 10,
   "metadata": {
    "nbgrader": {
     "grade": false,
     "grade_id": "cell-79db90c7d74f036f",
     "locked": true,
     "schema_version": 3,
     "solution": false,
     "task": false
    }
   },
   "outputs": [
    {
     "data": {
      "text/html": [
       "<div>\n",
       "<style scoped>\n",
       "    .dataframe tbody tr th:only-of-type {\n",
       "        vertical-align: middle;\n",
       "    }\n",
       "\n",
       "    .dataframe tbody tr th {\n",
       "        vertical-align: top;\n",
       "    }\n",
       "\n",
       "    .dataframe thead th {\n",
       "        text-align: right;\n",
       "    }\n",
       "</style>\n",
       "<table border=\"1\" class=\"dataframe\">\n",
       "  <thead>\n",
       "    <tr style=\"text-align: right;\">\n",
       "      <th></th>\n",
       "      <th>mutation_id</th>\n",
       "      <th>mutation_variant</th>\n",
       "      <th>mutation_start</th>\n",
       "      <th>mutation_end</th>\n",
       "      <th>full_mutated_sequence</th>\n",
       "      <th>mutated_subsequence</th>\n",
       "      <th>harmful</th>\n",
       "      <th>patient_sequence</th>\n",
       "    </tr>\n",
       "  </thead>\n",
       "  <tbody>\n",
       "    <tr>\n",
       "      <th>0</th>\n",
       "      <td>18</td>\n",
       "      <td>70</td>\n",
       "      <td>8963</td>\n",
       "      <td>9013</td>\n",
       "      <td>CGGGGAGGCGTGCCACCCATTATAGGAGGCGAAAAAGGATAAGGGG...</td>\n",
       "      <td>AACATGGAGTTACCAGCAATACGATGACTTAAAGATCCGTTTCCAG...</td>\n",
       "      <td>False</td>\n",
       "      <td>CGGGGAGGCGTGCCACCCATTATAGGAGGCGAAAAAGGATAAGGGG...</td>\n",
       "    </tr>\n",
       "    <tr>\n",
       "      <th>1</th>\n",
       "      <td>9</td>\n",
       "      <td>10</td>\n",
       "      <td>5283</td>\n",
       "      <td>5333</td>\n",
       "      <td>CGGGGAGGCGTGCCACCCATTATAGGAGGCGAAAAAGGATAAGGGG...</td>\n",
       "      <td>CACCCTCGCCTCCATTTGTGGGAGCTTCCGTGCGTGCGCTTCGTTT...</td>\n",
       "      <td>False</td>\n",
       "      <td>CGGGGAGGCTTGCCACCCATTATAGGAGGCGAAAAAGGATAAGGGG...</td>\n",
       "    </tr>\n",
       "    <tr>\n",
       "      <th>2</th>\n",
       "      <td>6</td>\n",
       "      <td>44</td>\n",
       "      <td>9580</td>\n",
       "      <td>9630</td>\n",
       "      <td>CGGGGAGGCGTGCCACCCATTATAGGAGGCGAAAAAGGATAAGGGG...</td>\n",
       "      <td>ATCTACACCAGGCTATAACGTTACGCAGTTCTAGCACTGTTGGATC...</td>\n",
       "      <td>False</td>\n",
       "      <td>TGGGGAGGCGTGCCACCCATTATAGGAGGCGAAAAAGGATAAGGGG...</td>\n",
       "    </tr>\n",
       "    <tr>\n",
       "      <th>3</th>\n",
       "      <td>2</td>\n",
       "      <td>50</td>\n",
       "      <td>4560</td>\n",
       "      <td>4610</td>\n",
       "      <td>CGGGGAGGCGTGCCACCCATTATAGGAGGCGAAAAAGGATAAGGGG...</td>\n",
       "      <td>GTTTGCTCTGCACGATCATCAATCCGGTTACTAAACAGGAACTCGG...</td>\n",
       "      <td>True</td>\n",
       "      <td>CGGGGAGGCGTGCCACCCATTATAGGAGGCGAAAAAGGATAAGGGG...</td>\n",
       "    </tr>\n",
       "    <tr>\n",
       "      <th>4</th>\n",
       "      <td>10</td>\n",
       "      <td>34</td>\n",
       "      <td>1632</td>\n",
       "      <td>1682</td>\n",
       "      <td>CGGGGAGGCGTGCCACCCATTATAGGAGGCGAAAAAGGATAAGGGG...</td>\n",
       "      <td>CATGGGTGTGATCGCTGTACGTATAATGTACCGTTTACATTTACAT...</td>\n",
       "      <td>True</td>\n",
       "      <td>CGGGGAGGCGTGCCACCCATTATAGGAGGCGAAAAAGGATAAGGGG...</td>\n",
       "    </tr>\n",
       "    <tr>\n",
       "      <th>...</th>\n",
       "      <td>...</td>\n",
       "      <td>...</td>\n",
       "      <td>...</td>\n",
       "      <td>...</td>\n",
       "      <td>...</td>\n",
       "      <td>...</td>\n",
       "      <td>...</td>\n",
       "      <td>...</td>\n",
       "    </tr>\n",
       "    <tr>\n",
       "      <th>995</th>\n",
       "      <td>5</td>\n",
       "      <td>73</td>\n",
       "      <td>2154</td>\n",
       "      <td>2204</td>\n",
       "      <td>CGGGGAGGCGTGCCACCCATTATAGGAGGCGAAAAAGGATAAGGGG...</td>\n",
       "      <td>CCTCGTCTACGTTTCTCTTACGCAAGCGTACTGGCATGTTTTAACC...</td>\n",
       "      <td>False</td>\n",
       "      <td>CGGGGAGGCGTGCCACCCATTATAGGAGGCGAAAAAGGATAAGGGG...</td>\n",
       "    </tr>\n",
       "    <tr>\n",
       "      <th>996</th>\n",
       "      <td>12</td>\n",
       "      <td>83</td>\n",
       "      <td>4139</td>\n",
       "      <td>4189</td>\n",
       "      <td>CGGGGAGGCGTGCCACCCATTATAGGAGGCGAAAAAGGATAAGGGG...</td>\n",
       "      <td>TGATAGAATAACGCGACTAGAACCCTCTCAGTACGCGGAATCTTCC...</td>\n",
       "      <td>False</td>\n",
       "      <td>CGGGGAGGCGTGCCACGCATTATAGGAGGCGAAAAAGGATAAGGGG...</td>\n",
       "    </tr>\n",
       "    <tr>\n",
       "      <th>997</th>\n",
       "      <td>1</td>\n",
       "      <td>93</td>\n",
       "      <td>3301</td>\n",
       "      <td>3351</td>\n",
       "      <td>CGGGGAGGCGTGCCACCCATTATAGGAGGCGAAAAAGGATAAGGGG...</td>\n",
       "      <td>GGCTTACCACTACACCTCACAATTGGGTTGAACGTCAAATTCAGTT...</td>\n",
       "      <td>False</td>\n",
       "      <td>CGGGGAGGCGTGCCACCCATTATAGGAGGCGAAAAAGGATAAGGGG...</td>\n",
       "    </tr>\n",
       "    <tr>\n",
       "      <th>998</th>\n",
       "      <td>10</td>\n",
       "      <td>47</td>\n",
       "      <td>1632</td>\n",
       "      <td>1682</td>\n",
       "      <td>CGGGGAGGCGTGCCACCCATTATAGGAGGCGAAAAAGGATAAGGGG...</td>\n",
       "      <td>CAGGGGTGTGATCGCTGCACGTATTATGTACCGTTTACATTTACGT...</td>\n",
       "      <td>False</td>\n",
       "      <td>CGGGGAGGCGTGCCACCCATTATAGGAGGCGAAAAAGGATAAGGGG...</td>\n",
       "    </tr>\n",
       "    <tr>\n",
       "      <th>999</th>\n",
       "      <td>9</td>\n",
       "      <td>58</td>\n",
       "      <td>5283</td>\n",
       "      <td>5333</td>\n",
       "      <td>CGGGGAGGCGTGCCACCCATTATAGGAGGCGAAAAAGGATAAGGGG...</td>\n",
       "      <td>CACTTTCGCCACCAGTTGTGGGTGCTGCCGAGCGTCCTCTTCGTTT...</td>\n",
       "      <td>False</td>\n",
       "      <td>CGGGGAGGCGTGCCACCCATTATAGGAGGCGAAAAAGGATAAGGGG...</td>\n",
       "    </tr>\n",
       "  </tbody>\n",
       "</table>\n",
       "<p>1000 rows × 8 columns</p>\n",
       "</div>"
      ],
      "text/plain": [
       "     mutation_id  mutation_variant  mutation_start  mutation_end  \\\n",
       "0             18                70            8963          9013   \n",
       "1              9                10            5283          5333   \n",
       "2              6                44            9580          9630   \n",
       "3              2                50            4560          4610   \n",
       "4             10                34            1632          1682   \n",
       "..           ...               ...             ...           ...   \n",
       "995            5                73            2154          2204   \n",
       "996           12                83            4139          4189   \n",
       "997            1                93            3301          3351   \n",
       "998           10                47            1632          1682   \n",
       "999            9                58            5283          5333   \n",
       "\n",
       "                                 full_mutated_sequence  \\\n",
       "0    CGGGGAGGCGTGCCACCCATTATAGGAGGCGAAAAAGGATAAGGGG...   \n",
       "1    CGGGGAGGCGTGCCACCCATTATAGGAGGCGAAAAAGGATAAGGGG...   \n",
       "2    CGGGGAGGCGTGCCACCCATTATAGGAGGCGAAAAAGGATAAGGGG...   \n",
       "3    CGGGGAGGCGTGCCACCCATTATAGGAGGCGAAAAAGGATAAGGGG...   \n",
       "4    CGGGGAGGCGTGCCACCCATTATAGGAGGCGAAAAAGGATAAGGGG...   \n",
       "..                                                 ...   \n",
       "995  CGGGGAGGCGTGCCACCCATTATAGGAGGCGAAAAAGGATAAGGGG...   \n",
       "996  CGGGGAGGCGTGCCACCCATTATAGGAGGCGAAAAAGGATAAGGGG...   \n",
       "997  CGGGGAGGCGTGCCACCCATTATAGGAGGCGAAAAAGGATAAGGGG...   \n",
       "998  CGGGGAGGCGTGCCACCCATTATAGGAGGCGAAAAAGGATAAGGGG...   \n",
       "999  CGGGGAGGCGTGCCACCCATTATAGGAGGCGAAAAAGGATAAGGGG...   \n",
       "\n",
       "                                   mutated_subsequence  harmful  \\\n",
       "0    AACATGGAGTTACCAGCAATACGATGACTTAAAGATCCGTTTCCAG...    False   \n",
       "1    CACCCTCGCCTCCATTTGTGGGAGCTTCCGTGCGTGCGCTTCGTTT...    False   \n",
       "2    ATCTACACCAGGCTATAACGTTACGCAGTTCTAGCACTGTTGGATC...    False   \n",
       "3    GTTTGCTCTGCACGATCATCAATCCGGTTACTAAACAGGAACTCGG...     True   \n",
       "4    CATGGGTGTGATCGCTGTACGTATAATGTACCGTTTACATTTACAT...     True   \n",
       "..                                                 ...      ...   \n",
       "995  CCTCGTCTACGTTTCTCTTACGCAAGCGTACTGGCATGTTTTAACC...    False   \n",
       "996  TGATAGAATAACGCGACTAGAACCCTCTCAGTACGCGGAATCTTCC...    False   \n",
       "997  GGCTTACCACTACACCTCACAATTGGGTTGAACGTCAAATTCAGTT...    False   \n",
       "998  CAGGGGTGTGATCGCTGCACGTATTATGTACCGTTTACATTTACGT...    False   \n",
       "999  CACTTTCGCCACCAGTTGTGGGTGCTGCCGAGCGTCCTCTTCGTTT...    False   \n",
       "\n",
       "                                      patient_sequence  \n",
       "0    CGGGGAGGCGTGCCACCCATTATAGGAGGCGAAAAAGGATAAGGGG...  \n",
       "1    CGGGGAGGCTTGCCACCCATTATAGGAGGCGAAAAAGGATAAGGGG...  \n",
       "2    TGGGGAGGCGTGCCACCCATTATAGGAGGCGAAAAAGGATAAGGGG...  \n",
       "3    CGGGGAGGCGTGCCACCCATTATAGGAGGCGAAAAAGGATAAGGGG...  \n",
       "4    CGGGGAGGCGTGCCACCCATTATAGGAGGCGAAAAAGGATAAGGGG...  \n",
       "..                                                 ...  \n",
       "995  CGGGGAGGCGTGCCACCCATTATAGGAGGCGAAAAAGGATAAGGGG...  \n",
       "996  CGGGGAGGCGTGCCACGCATTATAGGAGGCGAAAAAGGATAAGGGG...  \n",
       "997  CGGGGAGGCGTGCCACCCATTATAGGAGGCGAAAAAGGATAAGGGG...  \n",
       "998  CGGGGAGGCGTGCCACCCATTATAGGAGGCGAAAAAGGATAAGGGG...  \n",
       "999  CGGGGAGGCGTGCCACCCATTATAGGAGGCGAAAAAGGATAAGGGG...  \n",
       "\n",
       "[1000 rows x 8 columns]"
      ]
     },
     "execution_count": 10,
     "metadata": {},
     "output_type": "execute_result"
    }
   ],
   "source": [
    "patient_sample"
   ]
  },
  {
   "cell_type": "markdown",
   "metadata": {
    "nbgrader": {
     "grade": false,
     "grade_id": "cell-d5b69fec7db9af56",
     "locked": true,
     "schema_version": 3,
     "solution": false,
     "task": false
    }
   },
   "source": [
    "We do in fact see that some mutations occur more frequently than others:"
   ]
  },
  {
   "cell_type": "code",
   "execution_count": 11,
   "metadata": {
    "nbgrader": {
     "grade": false,
     "grade_id": "cell-51ed015c6ff54127",
     "locked": true,
     "schema_version": 3,
     "solution": false,
     "task": false
    }
   },
   "outputs": [
    {
     "data": {
      "text/plain": [
       "18    62\n",
       "10    61\n",
       "2     60\n",
       "13    59\n",
       "19    58\n",
       "3     57\n",
       "8     54\n",
       "7     54\n",
       "16    53\n",
       "15    52\n",
       "14    52\n",
       "6     47\n",
       "11    46\n",
       "5     46\n",
       "1     45\n",
       "9     43\n",
       "17    40\n",
       "20    39\n",
       "4     37\n",
       "12    35\n",
       "Name: mutation_id, dtype: int64"
      ]
     },
     "execution_count": 11,
     "metadata": {},
     "output_type": "execute_result"
    }
   ],
   "source": [
    "patient_sample['mutation_id'].value_counts()"
   ]
  },
  {
   "cell_type": "code",
   "execution_count": 12,
   "metadata": {
    "nbgrader": {
     "grade": false,
     "grade_id": "cell-143756f815643eda",
     "locked": true,
     "schema_version": 3,
     "solution": false,
     "task": false
    }
   },
   "outputs": [
    {
     "data": {
      "text/plain": [
       "False    959\n",
       "True      41\n",
       "Name: harmful, dtype: int64"
      ]
     },
     "execution_count": 12,
     "metadata": {},
     "output_type": "execute_result"
    }
   ],
   "source": [
    "patient_sample['harmful'].value_counts()"
   ]
  },
  {
   "cell_type": "code",
   "execution_count": 13,
   "metadata": {
    "nbgrader": {
     "grade": false,
     "grade_id": "cell-f66da3e099b500f3",
     "locked": true,
     "schema_version": 3,
     "solution": false,
     "task": false
    }
   },
   "outputs": [
    {
     "name": "stdout",
     "output_type": "stream",
     "text": [
      "4.100000 % of patients have a harmful mutation\n"
     ]
    }
   ],
   "source": [
    "print('%f %% of patients have a harmful mutation'%(len(patient_sample[patient_sample['harmful']]) * 100 / len(patient_sample))) "
   ]
  },
  {
   "cell_type": "markdown",
   "metadata": {
    "nbgrader": {
     "grade": false,
     "grade_id": "cell-6cf2c9cd59ad3aea",
     "locked": true,
     "schema_version": 3,
     "solution": false,
     "task": false
    }
   },
   "source": [
    "Let's take a look at the indices in the sequence where these mutations most often occur. We've done some analysis to help identify where specific mutations occur already. "
   ]
  },
  {
   "cell_type": "code",
   "execution_count": 14,
   "metadata": {
    "nbgrader": {
     "grade": false,
     "grade_id": "cell-07475582e06ac997",
     "locked": true,
     "schema_version": 3,
     "solution": false,
     "task": false
    }
   },
   "outputs": [],
   "source": [
    "harmful_mutations = pd.read_csv('harmful_mutations_summary.csv', converters={'indices':eval} )"
   ]
  },
  {
   "cell_type": "code",
   "execution_count": 15,
   "metadata": {
    "nbgrader": {
     "grade": false,
     "grade_id": "cell-ebd9d367355568ab",
     "locked": true,
     "schema_version": 3,
     "solution": false,
     "task": false
    },
    "scrolled": true
   },
   "outputs": [
    {
     "data": {
      "text/html": [
       "<div>\n",
       "<style scoped>\n",
       "    .dataframe tbody tr th:only-of-type {\n",
       "        vertical-align: middle;\n",
       "    }\n",
       "\n",
       "    .dataframe tbody tr th {\n",
       "        vertical-align: top;\n",
       "    }\n",
       "\n",
       "    .dataframe thead th {\n",
       "        text-align: right;\n",
       "    }\n",
       "</style>\n",
       "<table border=\"1\" class=\"dataframe\">\n",
       "  <thead>\n",
       "    <tr style=\"text-align: right;\">\n",
       "      <th></th>\n",
       "      <th>mutation_id</th>\n",
       "      <th>mutation_variant</th>\n",
       "      <th>mutation_start</th>\n",
       "      <th>mutation_end</th>\n",
       "      <th>full_mutated_sequence</th>\n",
       "      <th>mutated_subsequence</th>\n",
       "      <th>harmful</th>\n",
       "      <th>indices</th>\n",
       "    </tr>\n",
       "  </thead>\n",
       "  <tbody>\n",
       "    <tr>\n",
       "      <th>0</th>\n",
       "      <td>1</td>\n",
       "      <td>14</td>\n",
       "      <td>3301</td>\n",
       "      <td>3351</td>\n",
       "      <td>CGGGGAGGCGTGCCACCCATTATAGGAGGCGAAAAAGGATAAGGGG...</td>\n",
       "      <td>GGCTTACCTCTACACCCCACAATAGAGTTGAACGCCAAATTCAGAT...</td>\n",
       "      <td>True</td>\n",
       "      <td>[3309, 3317, 3324, 3335, 3345]</td>\n",
       "    </tr>\n",
       "    <tr>\n",
       "      <th>1</th>\n",
       "      <td>1</td>\n",
       "      <td>23</td>\n",
       "      <td>3301</td>\n",
       "      <td>3351</td>\n",
       "      <td>CGGGGAGGCGTGCCACCCATTATAGGAGGCGAAAAAGGATAAGGGG...</td>\n",
       "      <td>GGCTTACATCTATACCTCACAATTGAGTTGAACGTCATATTCAGTT...</td>\n",
       "      <td>True</td>\n",
       "      <td>[3308, 3309, 3313, 3338]</td>\n",
       "    </tr>\n",
       "    <tr>\n",
       "      <th>2</th>\n",
       "      <td>1</td>\n",
       "      <td>46</td>\n",
       "      <td>3301</td>\n",
       "      <td>3351</td>\n",
       "      <td>CGGGGAGGCGTGCCACCCATTATAGGAGGCGAAAAAGGATAAGGGG...</td>\n",
       "      <td>GGCGAACCACTAGACCTCACAATTGAGTTCAACGTCAAATTCAGTT...</td>\n",
       "      <td>True</td>\n",
       "      <td>[3304, 3305, 3313, 3330]</td>\n",
       "    </tr>\n",
       "    <tr>\n",
       "      <th>3</th>\n",
       "      <td>1</td>\n",
       "      <td>49</td>\n",
       "      <td>3301</td>\n",
       "      <td>3351</td>\n",
       "      <td>CGGGGAGGCGTGCCACCCATTATAGGAGGCGAAAAAGGATAAGGGG...</td>\n",
       "      <td>GGCTTACCACTGCACCTCACAATTGAATTGAACGGCAAATTCAGTT...</td>\n",
       "      <td>True</td>\n",
       "      <td>[3312, 3327, 3335]</td>\n",
       "    </tr>\n",
       "    <tr>\n",
       "      <th>4</th>\n",
       "      <td>1</td>\n",
       "      <td>57</td>\n",
       "      <td>3301</td>\n",
       "      <td>3351</td>\n",
       "      <td>CGGGGAGGCGTGCCACCCATTATAGGAGGCGAAAAAGGATAAGGGG...</td>\n",
       "      <td>GGCTTACCACTACACCTCACAATTGAGTTGAACGTCAAAGGCAGTT...</td>\n",
       "      <td>True</td>\n",
       "      <td>[3340, 3341]</td>\n",
       "    </tr>\n",
       "    <tr>\n",
       "      <th>...</th>\n",
       "      <td>...</td>\n",
       "      <td>...</td>\n",
       "      <td>...</td>\n",
       "      <td>...</td>\n",
       "      <td>...</td>\n",
       "      <td>...</td>\n",
       "      <td>...</td>\n",
       "      <td>...</td>\n",
       "    </tr>\n",
       "    <tr>\n",
       "      <th>74</th>\n",
       "      <td>18</td>\n",
       "      <td>47</td>\n",
       "      <td>8963</td>\n",
       "      <td>9013</td>\n",
       "      <td>CGGGGAGGCGTGCCACCCATTATAGGAGGCGAAAAAGGATAAGGGG...</td>\n",
       "      <td>AACCTGGAGTTACCAGCAATACGATGACTTAAAGATCCTTTTTCAG...</td>\n",
       "      <td>True</td>\n",
       "      <td>[8966, 9001, 9012]</td>\n",
       "    </tr>\n",
       "    <tr>\n",
       "      <th>75</th>\n",
       "      <td>19</td>\n",
       "      <td>38</td>\n",
       "      <td>1032</td>\n",
       "      <td>1082</td>\n",
       "      <td>CGGGGAGGCGTGCCACCCATTATAGGAGGCGAAAAAGGATAAGGGG...</td>\n",
       "      <td>TATGCCTTATCCACATCATGACGTCGAGGCTAATCGATGCACTCTA...</td>\n",
       "      <td>True</td>\n",
       "      <td>[1074]</td>\n",
       "    </tr>\n",
       "    <tr>\n",
       "      <th>76</th>\n",
       "      <td>19</td>\n",
       "      <td>50</td>\n",
       "      <td>1032</td>\n",
       "      <td>1082</td>\n",
       "      <td>CGGGGAGGCGTGCCACCCATTATAGGAGGCGAAAAAGGATAAGGGG...</td>\n",
       "      <td>TATGCCTTATCCACATCAAGACGTCGAGGCTAATCGATGCACGCTA...</td>\n",
       "      <td>True</td>\n",
       "      <td>[1050, 1078]</td>\n",
       "    </tr>\n",
       "    <tr>\n",
       "      <th>77</th>\n",
       "      <td>20</td>\n",
       "      <td>90</td>\n",
       "      <td>198</td>\n",
       "      <td>248</td>\n",
       "      <td>CGGGGAGGCGTGCCACCCATTATAGGAGGCGAAAAAGGATAAGGGG...</td>\n",
       "      <td>CTTGAGACCTTAGTCCGTCATCAACACTTGTACCAGACGTAGAATT...</td>\n",
       "      <td>True</td>\n",
       "      <td>[227]</td>\n",
       "    </tr>\n",
       "    <tr>\n",
       "      <th>78</th>\n",
       "      <td>20</td>\n",
       "      <td>99</td>\n",
       "      <td>198</td>\n",
       "      <td>248</td>\n",
       "      <td>CGGGGAGGCGTGCCACCCATTATAGGAGGCGAAAAAGGATAAGGGG...</td>\n",
       "      <td>CTTGAGACCTTAGTCCGTCATCATCACTTATACCAGACGTAGAAGT...</td>\n",
       "      <td>True</td>\n",
       "      <td>[221, 227, 242]</td>\n",
       "    </tr>\n",
       "  </tbody>\n",
       "</table>\n",
       "<p>79 rows × 8 columns</p>\n",
       "</div>"
      ],
      "text/plain": [
       "    mutation_id  mutation_variant  mutation_start  mutation_end  \\\n",
       "0             1                14            3301          3351   \n",
       "1             1                23            3301          3351   \n",
       "2             1                46            3301          3351   \n",
       "3             1                49            3301          3351   \n",
       "4             1                57            3301          3351   \n",
       "..          ...               ...             ...           ...   \n",
       "74           18                47            8963          9013   \n",
       "75           19                38            1032          1082   \n",
       "76           19                50            1032          1082   \n",
       "77           20                90             198           248   \n",
       "78           20                99             198           248   \n",
       "\n",
       "                                full_mutated_sequence  \\\n",
       "0   CGGGGAGGCGTGCCACCCATTATAGGAGGCGAAAAAGGATAAGGGG...   \n",
       "1   CGGGGAGGCGTGCCACCCATTATAGGAGGCGAAAAAGGATAAGGGG...   \n",
       "2   CGGGGAGGCGTGCCACCCATTATAGGAGGCGAAAAAGGATAAGGGG...   \n",
       "3   CGGGGAGGCGTGCCACCCATTATAGGAGGCGAAAAAGGATAAGGGG...   \n",
       "4   CGGGGAGGCGTGCCACCCATTATAGGAGGCGAAAAAGGATAAGGGG...   \n",
       "..                                                ...   \n",
       "74  CGGGGAGGCGTGCCACCCATTATAGGAGGCGAAAAAGGATAAGGGG...   \n",
       "75  CGGGGAGGCGTGCCACCCATTATAGGAGGCGAAAAAGGATAAGGGG...   \n",
       "76  CGGGGAGGCGTGCCACCCATTATAGGAGGCGAAAAAGGATAAGGGG...   \n",
       "77  CGGGGAGGCGTGCCACCCATTATAGGAGGCGAAAAAGGATAAGGGG...   \n",
       "78  CGGGGAGGCGTGCCACCCATTATAGGAGGCGAAAAAGGATAAGGGG...   \n",
       "\n",
       "                                  mutated_subsequence  harmful  \\\n",
       "0   GGCTTACCTCTACACCCCACAATAGAGTTGAACGCCAAATTCAGAT...     True   \n",
       "1   GGCTTACATCTATACCTCACAATTGAGTTGAACGTCATATTCAGTT...     True   \n",
       "2   GGCGAACCACTAGACCTCACAATTGAGTTCAACGTCAAATTCAGTT...     True   \n",
       "3   GGCTTACCACTGCACCTCACAATTGAATTGAACGGCAAATTCAGTT...     True   \n",
       "4   GGCTTACCACTACACCTCACAATTGAGTTGAACGTCAAAGGCAGTT...     True   \n",
       "..                                                ...      ...   \n",
       "74  AACCTGGAGTTACCAGCAATACGATGACTTAAAGATCCTTTTTCAG...     True   \n",
       "75  TATGCCTTATCCACATCATGACGTCGAGGCTAATCGATGCACTCTA...     True   \n",
       "76  TATGCCTTATCCACATCAAGACGTCGAGGCTAATCGATGCACGCTA...     True   \n",
       "77  CTTGAGACCTTAGTCCGTCATCAACACTTGTACCAGACGTAGAATT...     True   \n",
       "78  CTTGAGACCTTAGTCCGTCATCATCACTTATACCAGACGTAGAAGT...     True   \n",
       "\n",
       "                           indices  \n",
       "0   [3309, 3317, 3324, 3335, 3345]  \n",
       "1         [3308, 3309, 3313, 3338]  \n",
       "2         [3304, 3305, 3313, 3330]  \n",
       "3               [3312, 3327, 3335]  \n",
       "4                     [3340, 3341]  \n",
       "..                             ...  \n",
       "74              [8966, 9001, 9012]  \n",
       "75                          [1074]  \n",
       "76                    [1050, 1078]  \n",
       "77                           [227]  \n",
       "78                 [221, 227, 242]  \n",
       "\n",
       "[79 rows x 8 columns]"
      ]
     },
     "execution_count": 15,
     "metadata": {},
     "output_type": "execute_result"
    }
   ],
   "source": [
    "harmful_mutations"
   ]
  },
  {
   "cell_type": "code",
   "execution_count": 16,
   "metadata": {
    "nbgrader": {
     "grade": false,
     "grade_id": "cell-11999561284e0e66",
     "locked": true,
     "schema_version": 3,
     "solution": false,
     "task": false
    }
   },
   "outputs": [],
   "source": [
    "harmful_indices = []\n",
    "\n",
    "for i in harmful_mutations['indices'].tolist():\n",
    "    harmful_indices.extend(i)"
   ]
  },
  {
   "cell_type": "markdown",
   "metadata": {
    "nbgrader": {
     "grade": false,
     "grade_id": "cell-cdfea1ee50d3695c",
     "locked": true,
     "schema_version": 3,
     "solution": false,
     "task": false
    }
   },
   "source": [
    "You can see the most common harmful indices here both by raw counts as well as a histogram/kernel density plot. Don't read too far into the kernel density since these are discrete index positions with fixed locations - it's just to help you understand that some areas of the sequence are more commonly associated with harmful mutations than others. "
   ]
  },
  {
   "cell_type": "code",
   "execution_count": 17,
   "metadata": {
    "nbgrader": {
     "grade": false,
     "grade_id": "cell-c4654239e0608725",
     "locked": true,
     "schema_version": 3,
     "solution": false,
     "task": false
    },
    "scrolled": false
   },
   "outputs": [
    {
     "data": {
      "text/html": [
       "<div>\n",
       "<style scoped>\n",
       "    .dataframe tbody tr th:only-of-type {\n",
       "        vertical-align: middle;\n",
       "    }\n",
       "\n",
       "    .dataframe tbody tr th {\n",
       "        vertical-align: top;\n",
       "    }\n",
       "\n",
       "    .dataframe thead th {\n",
       "        text-align: right;\n",
       "    }\n",
       "</style>\n",
       "<table border=\"1\" class=\"dataframe\">\n",
       "  <thead>\n",
       "    <tr style=\"text-align: right;\">\n",
       "      <th></th>\n",
       "      <th>position</th>\n",
       "      <th>frequency</th>\n",
       "      <th>p</th>\n",
       "    </tr>\n",
       "  </thead>\n",
       "  <tbody>\n",
       "    <tr>\n",
       "      <th>0</th>\n",
       "      <td>9603</td>\n",
       "      <td>3</td>\n",
       "      <td>0.014354</td>\n",
       "    </tr>\n",
       "    <tr>\n",
       "      <th>1</th>\n",
       "      <td>4898</td>\n",
       "      <td>3</td>\n",
       "      <td>0.014354</td>\n",
       "    </tr>\n",
       "    <tr>\n",
       "      <th>2</th>\n",
       "      <td>1656</td>\n",
       "      <td>2</td>\n",
       "      <td>0.009569</td>\n",
       "    </tr>\n",
       "    <tr>\n",
       "      <th>3</th>\n",
       "      <td>4899</td>\n",
       "      <td>2</td>\n",
       "      <td>0.009569</td>\n",
       "    </tr>\n",
       "    <tr>\n",
       "      <th>4</th>\n",
       "      <td>4883</td>\n",
       "      <td>2</td>\n",
       "      <td>0.009569</td>\n",
       "    </tr>\n",
       "    <tr>\n",
       "      <th>...</th>\n",
       "      <td>...</td>\n",
       "      <td>...</td>\n",
       "      <td>...</td>\n",
       "    </tr>\n",
       "    <tr>\n",
       "      <th>174</th>\n",
       "      <td>3426</td>\n",
       "      <td>1</td>\n",
       "      <td>0.004785</td>\n",
       "    </tr>\n",
       "    <tr>\n",
       "      <th>175</th>\n",
       "      <td>9624</td>\n",
       "      <td>1</td>\n",
       "      <td>0.004785</td>\n",
       "    </tr>\n",
       "    <tr>\n",
       "      <th>176</th>\n",
       "      <td>3553</td>\n",
       "      <td>1</td>\n",
       "      <td>0.004785</td>\n",
       "    </tr>\n",
       "    <tr>\n",
       "      <th>177</th>\n",
       "      <td>9590</td>\n",
       "      <td>1</td>\n",
       "      <td>0.004785</td>\n",
       "    </tr>\n",
       "    <tr>\n",
       "      <th>178</th>\n",
       "      <td>1643</td>\n",
       "      <td>1</td>\n",
       "      <td>0.004785</td>\n",
       "    </tr>\n",
       "  </tbody>\n",
       "</table>\n",
       "<p>179 rows × 3 columns</p>\n",
       "</div>"
      ],
      "text/plain": [
       "     position  frequency         p\n",
       "0        9603          3  0.014354\n",
       "1        4898          3  0.014354\n",
       "2        1656          2  0.009569\n",
       "3        4899          2  0.009569\n",
       "4        4883          2  0.009569\n",
       "..        ...        ...       ...\n",
       "174      3426          1  0.004785\n",
       "175      9624          1  0.004785\n",
       "176      3553          1  0.004785\n",
       "177      9590          1  0.004785\n",
       "178      1643          1  0.004785\n",
       "\n",
       "[179 rows x 3 columns]"
      ]
     },
     "execution_count": 17,
     "metadata": {},
     "output_type": "execute_result"
    }
   ],
   "source": [
    "harmful_mutation_position_distribution = pd.Series(harmful_indices).value_counts().reset_index()\n",
    "harmful_mutation_position_distribution.columns = ['position', 'frequency']\n",
    "harmful_mutation_position_distribution['p'] = harmful_mutation_position_distribution['frequency'] / harmful_mutation_position_distribution['frequency'].sum()\n",
    "harmful_mutation_position_distribution"
   ]
  },
  {
   "cell_type": "code",
   "execution_count": 18,
   "metadata": {
    "nbgrader": {
     "grade": false,
     "grade_id": "cell-185074f574f1fcc8",
     "locked": true,
     "schema_version": 3,
     "solution": false,
     "task": false
    }
   },
   "outputs": [
    {
     "data": {
      "text/plain": [
       "<matplotlib.axes._subplots.AxesSubplot at 0x7f92ef862f10>"
      ]
     },
     "execution_count": 18,
     "metadata": {},
     "output_type": "execute_result"
    },
    {
     "data": {
      "image/png": "[encoded data removed]",
      "text/plain": [
       "<Figure size 432x288 with 1 Axes>"
      ]
     },
     "metadata": {
      "needs_background": "light"
     },
     "output_type": "display_data"
    }
   ],
   "source": [
    "fig, ax = plt.subplots()\n",
    "sns.distplot(harmful_indices, ax=ax, bins=1000)"
   ]
  },
  {
   "cell_type": "markdown",
   "metadata": {
    "nbgrader": {
     "grade": false,
     "grade_id": "cell-a5104d3e0a6dd81c",
     "locked": true,
     "schema_version": 3,
     "solution": false,
     "task": false
    }
   },
   "source": [
    "# Intro to adaptive sampling\n",
    "\n",
    "At this point you might be wondering what all of this is about. Recall from the paper that we have a finite set of hypotheses, among which exactly one is the unknown true hypothesis we seek to identify from chooseing from a potentially large set of actions. Here those candidate hypotheses are different types of cancers, and actions correspond to sequencing individual DNA addresses. \n",
    "\n",
    "We are using a synthetic dataset to compare how our method works vs. a \"ground truth\", but in reality we wouldn't have all of this information sequenced, and we wouldn't know if a given patient had a harmful mutation or not. In our sampling approach, we incur a fixed cost each time an action is selected and we seek to identify the true hypothesis with sufficient confidence at minimum total cost. We are allowed to select actions adaptively, and one technique to do this is to lean on our known distribution of harmful indices - this is basically a probability distribution function that we can select from! \n",
    "\n",
    "However in this problem we run into the classic explore/exploit tradeoff - our sampling approach COULD just use the most common harmful indices, but we might miss more rare mutations that way. So we have to also figure out the right balance between exploring possibilities and exploiting known information. \n",
    "\n",
    "For your first task, write a function called `choose_next_sample` to start to do this, based on a list of previous choices. For the first choice, the length of this list would be 0. It will take in the dataframe above w/ the probability distribution function (in the function we're calling it `pdf` but you'll call the function with the `harmful_mutation_position_distribution` dataframe), the list of previous choices (`previous_choices`), and a parameter called `exploit_value` in the range 0-1 that allows you to probabilistically choose between exploring and exploiting (0 being full explore, 1 being full exploit). "
   ]
  },
  {
   "cell_type": "code",
   "execution_count": 19,
   "metadata": {
    "nbgrader": {
     "grade": false,
     "grade_id": "cell-b732d965a3cd4ef0",
     "locked": false,
     "schema_version": 3,
     "solution": true,
     "task": false
    }
   },
   "outputs": [],
   "source": [
    "def choose_next_sample(pdf, previous_choices, exploit_value):\n",
    "    \n",
    "     # Filter previous choices from PDF and rank by probability\n",
    "    \n",
    "    # If exploiting, take most likely PDF value\n",
    "    \n",
    "    # If exploring, pick a random value\n",
    "        \n",
    "    ### BEGIN SOLUTION\n",
    "    \n",
    "    pdf = pdf[~pdf['position'].isin(previous_choices)].sort_values(by='p', ascending=False)\n",
    "    \n",
    "    if random.random() < exploit_value:\n",
    "        chosen_index = int(pdf.iloc[0]['position'])\n",
    "    else:\n",
    "        chosen_index = int(pdf.sample(1).iloc[0]['position'])\n",
    "    \n",
    "    ### END SOLUTION\n",
    "    \n",
    "    return chosen_index"
   ]
  },
  {
   "cell_type": "code",
   "execution_count": 20,
   "metadata": {
    "nbgrader": {
     "grade": true,
     "grade_id": "cell-eef637df2dfcd618",
     "locked": true,
     "points": 10,
     "schema_version": 3,
     "solution": false,
     "task": false
    }
   },
   "outputs": [],
   "source": [
    "# Here are some basic tests you can use to make sure your function is working.\n",
    "\n",
    "assert choose_next_sample(harmful_mutation_position_distribution, previous_choices=[], exploit_value=1) == 9603 \n",
    "assert choose_next_sample(harmful_mutation_position_distribution, previous_choices=[9603], exploit_value=1) == 4898 "
   ]
  },
  {
   "cell_type": "code",
   "execution_count": 21,
   "metadata": {
    "nbgrader": {
     "grade": true,
     "grade_id": "cell-efc1288e80d52364",
     "locked": true,
     "points": 20,
     "schema_version": 3,
     "solution": false,
     "task": false
    }
   },
   "outputs": [],
   "source": [
    "# There are some hidden tests we are using as well.. \n",
    "\n",
    "### BEGIN HIDDEN TESTS\n",
    "\n",
    "harmful_mutation_position_distribution = harmful_mutation_position_distribution.sort_values(by='p', ascending=False)\n",
    "\n",
    "# Test for exploit \n",
    "selected_positions = []\n",
    "\n",
    "for i in range(len(harmful_mutation_position_distribution)):\n",
    "    choice = choose_next_sample(harmful_mutation_position_distribution, selected_positions, exploit_value=1)\n",
    "    selected_positions.append(choice)\n",
    "    \n",
    "    \n",
    "assert selected_positions == harmful_mutation_position_distribution['position'].to_list(), 'You are not setting up exploit properly.'\n",
    "\n",
    "# Test for explore\n",
    "selected_positions = []\n",
    "\n",
    "for i in range(len(harmful_mutation_position_distribution)):\n",
    "    choice = choose_next_sample(harmful_mutation_position_distribution, selected_positions, exploit_value=0.5)\n",
    "    selected_positions.append(choice)\n",
    "\n",
    "\n",
    "assert selected_positions != harmful_mutation_position_distribution['position'].to_list(), 'You are not setting up explore properly.'\n",
    "\n",
    "### END HIDDEN TESTS"
   ]
  },
  {
   "cell_type": "markdown",
   "metadata": {
    "nbgrader": {
     "grade": false,
     "grade_id": "cell-15d4a7445192367c",
     "locked": true,
     "schema_version": 3,
     "solution": false,
     "task": false
    }
   },
   "source": [
    "We'll use our function now to create a list of indices corresponding to a given sample length. "
   ]
  },
  {
   "cell_type": "code",
   "execution_count": 22,
   "metadata": {
    "nbgrader": {
     "grade": false,
     "grade_id": "cell-db170ff3433c5692",
     "locked": true,
     "schema_version": 3,
     "solution": false,
     "task": false
    }
   },
   "outputs": [],
   "source": [
    "def select_positions(sample_length, exploit_value):\n",
    "  \n",
    "    selected_positions = []\n",
    "    \n",
    "    for i in range(sample_length):\n",
    "        selected_position = choose_next_sample(harmful_mutation_position_distribution, \n",
    "                                               previous_choices=selected_positions, \n",
    "                                               exploit_value=exploit_value)\n",
    "        selected_positions.append(selected_position)\n",
    "  \n",
    "    return selected_positions"
   ]
  },
  {
   "cell_type": "markdown",
   "metadata": {
    "nbgrader": {
     "grade": false,
     "grade_id": "cell-7a9fc390013c19f5",
     "locked": true,
     "schema_version": 3,
     "solution": false,
     "task": false
    }
   },
   "source": [
    "Given a sampled list of indices to check, here is a function to cross reference a given patient sequence against the base sequence and mutation list to determine if there are harmful mutations. "
   ]
  },
  {
   "cell_type": "code",
   "execution_count": 23,
   "metadata": {
    "nbgrader": {
     "grade": false,
     "grade_id": "cell-712c0782bd0dc512",
     "locked": true,
     "schema_version": 3,
     "solution": false,
     "task": false
    }
   },
   "outputs": [],
   "source": [
    "def search_for_harmful_mutations(patient_sequence, selected_positions):\n",
    "\n",
    "    possible_mutations = []\n",
    "\n",
    "    for position in selected_positions:\n",
    "\n",
    "        # Only check mutations if patient differs from base sequence at selected position\n",
    "        if patient_sequence[position] != base_sequence[position]:\n",
    "\n",
    "            # Only check mutations containing selected position \n",
    "            relevant_harmful_mutations = harmful_mutations[(harmful_mutations['mutation_start'] <= position) & \n",
    "                                                        (harmful_mutations['mutation_end'] >= position)]\n",
    "\n",
    "            # Search through possible matches and return relevant mutation id/variant combinations         \n",
    "            if len(relevant_harmful_mutations) > 0:       \n",
    "                relevant_harmful_mutations = relevant_harmful_mutations.reset_index(drop=True)\n",
    "\n",
    "            for mutation_index in relevant_harmful_mutations.index:\n",
    "                mutation_sequence = relevant_harmful_mutations.iloc[mutation_index]['full_mutated_sequence']\n",
    "                if mutation_sequence[position] == patient_sequence[position]:\n",
    "                    possible_mutations.append([relevant_harmful_mutations.iloc[mutation_index]['mutation_id'],\n",
    "                                              relevant_harmful_mutations.iloc[mutation_index]['mutation_variant']])\n",
    "\n",
    "    return possible_mutations"
   ]
  },
  {
   "cell_type": "markdown",
   "metadata": {
    "nbgrader": {
     "grade": false,
     "grade_id": "cell-8d714f3ec9d6308c",
     "locked": true,
     "schema_version": 3,
     "solution": false,
     "task": false
    }
   },
   "source": [
    "Here is a given example run with this w/ a very short sample length of 10, and an exploit value of 0.8. "
   ]
  },
  {
   "cell_type": "code",
   "execution_count": 24,
   "metadata": {
    "nbgrader": {
     "grade": false,
     "grade_id": "cell-680e35d5bf9459d5",
     "locked": true,
     "schema_version": 3,
     "solution": false,
     "task": false
    }
   },
   "outputs": [
    {
     "name": "stderr",
     "output_type": "stream",
     "text": [
      "100% (1000 of 1000) |####################| Elapsed Time: 0:00:00 Time:  0:00:00\n"
     ]
    }
   ],
   "source": [
    "selected_positions = select_positions(sample_length=10, exploit_value=0.8)\n",
    "patient_results = []\n",
    "pbar = ProgressBar()\n",
    "\n",
    "for patient_index in pbar(patient_sample.index):\n",
    "    patient_sequence = patient_sample.iloc[patient_index]['full_mutated_sequence']\n",
    "    possible_mutations = search_for_harmful_mutations(patient_sequence, selected_positions)\n",
    "    patient_results.append(possible_mutations)"
   ]
  },
  {
   "cell_type": "markdown",
   "metadata": {
    "nbgrader": {
     "grade": false,
     "grade_id": "cell-8159fe3b6af15450",
     "locked": true,
     "schema_version": 3,
     "solution": false,
     "task": false
    }
   },
   "source": [
    "Let's do some analysis looking at how this did. First we want to see what if any mutations were identified, and flag if they are harmful. \n",
    "\n",
    "Here we are basically turning it into a binary classification problem based on if the harmful mutation was identified (True if yes) in the returned possible mutations, and False if no mutation/ only wrong mutations detected. Technically this should probably be a  multi-class classification problem, but we don't have a probability score associated with a given mutation, so this doesn't really work. \n",
    "\n",
    "Next, we need a metric to quantify effectiveness of our detector. Since there is a [class imbalance problem](https://machinelearningmastery.com/failure-of-accuracy-for-imbalanced-class-distributions/), accuracy doesn't work as a great performance metric, so we use the [f1 score](https://scikit-learn.org/stable/modules/generated/sklearn.metrics.f1_score.html). "
   ]
  },
  {
   "cell_type": "code",
   "execution_count": 25,
   "metadata": {
    "nbgrader": {
     "grade": false,
     "grade_id": "cell-7193e8216a839c84",
     "locked": true,
     "schema_version": 3,
     "solution": false,
     "task": false
    }
   },
   "outputs": [],
   "source": [
    "patient_sample['test_results'] = patient_results\n",
    "patient_sample['mutation_hits'] = patient_sample['test_results'].apply(lambda x: len(x))\n",
    "patient_sample['harmful_mutation_identified_correctly'] = patient_sample.apply(lambda x: [x['mutation_id'],\n",
    "                                                                                          x['mutation_variant']] in x['test_results'], \n",
    "                                                                                axis=1)\n",
    "score = f1_score(patient_sample['harmful'], patient_sample['harmful_mutation_identified_correctly'])"
   ]
  },
  {
   "cell_type": "code",
   "execution_count": 26,
   "metadata": {
    "nbgrader": {
     "grade": false,
     "grade_id": "cell-46e41cde2af99c71",
     "locked": true,
     "schema_version": 3,
     "solution": false,
     "task": false
    }
   },
   "outputs": [
    {
     "name": "stdout",
     "output_type": "stream",
     "text": [
      "f1 score: 0.392157\n"
     ]
    }
   ],
   "source": [
    "print('f1 score: %f'%(score))"
   ]
  },
  {
   "cell_type": "markdown",
   "metadata": {
    "nbgrader": {
     "grade": false,
     "grade_id": "cell-86eced673b37aaa1",
     "locked": true,
     "schema_version": 3,
     "solution": false,
     "task": false
    }
   },
   "source": [
    "So based on this score we can see this isn't doing particularly well to start. Recall that f1 score combines both precision and recall and a perfect score would be 1 - we can check that by running: "
   ]
  },
  {
   "cell_type": "code",
   "execution_count": 27,
   "metadata": {
    "nbgrader": {
     "grade": false,
     "grade_id": "cell-fbe2fdcdfbcf3ac6",
     "locked": true,
     "schema_version": 3,
     "solution": false,
     "task": false
    }
   },
   "outputs": [],
   "source": [
    "score = f1_score(patient_sample['harmful'], patient_sample['harmful'])"
   ]
  },
  {
   "cell_type": "code",
   "execution_count": 28,
   "metadata": {
    "nbgrader": {
     "grade": false,
     "grade_id": "cell-c4dd4b1cf8c3abb6",
     "locked": true,
     "schema_version": 3,
     "solution": false,
     "task": false
    }
   },
   "outputs": [
    {
     "name": "stdout",
     "output_type": "stream",
     "text": [
      "f1 score: 1.000000\n"
     ]
    }
   ],
   "source": [
    "print('f1 score: %f'%(score))"
   ]
  },
  {
   "cell_type": "markdown",
   "metadata": {
    "nbgrader": {
     "grade": false,
     "grade_id": "cell-03170f2407b25d7e",
     "locked": true,
     "schema_version": 3,
     "solution": false,
     "task": false
    }
   },
   "source": [
    "# Optimizing the sampling approach\n",
    "\n",
    "At this point you are hopefully starting to wonder how we can tune this approach to come up with a more useful sampling approach capable of maximizing detection of harmful mutation while minimizing false positives as well as costs of sequencing. There are 2 main levers we have: \n",
    "\n",
    "1. **Adjusting the sample length** - longer sample lengths are more likely to detect more harmful mutations, but are going to be more costly. \n",
    "2. **Adjusting the explore vs. exploit ratio** - we want to exploit knowledge of where we expect the most likely mutations to occur, but we also want to make sure we explore more marginal possibilities. \n",
    "\n",
    "One thing to keep in mind with varying explore/exploit parameters is that even with the same sample length we will have some variation in what we pull back and thus the performance. To deal with this, we will create an ensemble for each sample length/exploit ratio and create a confidence interval to evaluate performance. \n",
    "\n",
    "Let's start by generating some sample lengths and explore/exploit ratios to test, and then we'll use those parameters to search for harmful mutations. We limited the combinations in order to shorten the time it takes to run (it will still take a few minutes), but you might find it interesting to explore more potential combinations or run more iterations to create a bigger ensemble. "
   ]
  },
  {
   "cell_type": "code",
   "execution_count": 29,
   "metadata": {
    "nbgrader": {
     "grade": false,
     "grade_id": "cell-14f18b05c9aad3dc",
     "locked": true,
     "schema_version": 3,
     "solution": false,
     "task": false
    }
   },
   "outputs": [],
   "source": [
    "sample_lengths = np.arange(10, 179, 20)\n",
    "exploit_values = np.arange(0, 1.1, 0.2)"
   ]
  },
  {
   "cell_type": "code",
   "execution_count": 30,
   "metadata": {
    "nbgrader": {
     "grade": false,
     "grade_id": "cell-8893f27dde865dd0",
     "locked": true,
     "schema_version": 3,
     "solution": false,
     "task": false
    },
    "scrolled": true
   },
   "outputs": [
    {
     "name": "stderr",
     "output_type": "stream",
     "text": [
      "100% (9 of 9) |##########################| Elapsed Time: 0:07:35 Time:  0:07:35\n"
     ]
    }
   ],
   "source": [
    "pbar = ProgressBar()\n",
    "results = []\n",
    "\n",
    "for sample_length in pbar(sample_lengths):\n",
    "  \n",
    "    # Try different exploit values \n",
    "    for exploit_value in exploit_values:\n",
    "\n",
    "        # Create ensemble to get distribution of f1-scores for multiple iterations of sample lengths/exploit values\n",
    "        for iter in range(10):\n",
    "\n",
    "            selected_positions = select_positions(sample_length=sample_length, exploit_value=exploit_value)\n",
    "            patient_results = []\n",
    "\n",
    "            for patient_index in patient_sample.index:\n",
    "                patient_sequence = patient_sample.iloc[patient_index]['full_mutated_sequence']\n",
    "                possible_mutations = search_for_harmful_mutations(patient_sequence, selected_positions)\n",
    "                patient_results.append(possible_mutations)\n",
    "\n",
    "            patient_sample['test_results'] = patient_results\n",
    "            patient_sample['mutation_hits'] = patient_sample['test_results'].apply(lambda x: len(x))\n",
    "            patient_sample['harmful_mutation_identified_correctly'] = patient_sample.apply(lambda x: [x['mutation_id'], x['mutation_variant']] in x['test_results'], axis=1)\n",
    "            score = f1_score(patient_sample['harmful'], patient_sample['harmful_mutation_identified_correctly'])\n",
    "\n",
    "            results.append([sample_length, exploit_value, score])"
   ]
  },
  {
   "cell_type": "code",
   "execution_count": 31,
   "metadata": {
    "nbgrader": {
     "grade": false,
     "grade_id": "cell-d65574770f5c00e9",
     "locked": true,
     "schema_version": 3,
     "solution": false,
     "task": false
    },
    "scrolled": false
   },
   "outputs": [
    {
     "data": {
      "image/png": "[encoded data removed]",
      "text/plain": [
       "<Figure size 720x360 with 1 Axes>"
      ]
     },
     "metadata": {
      "needs_background": "light"
     },
     "output_type": "display_data"
    }
   ],
   "source": [
    "results_df = pd.DataFrame(results, columns=['sample_length', 'exploit_value', 'f1_score'])\n",
    "\n",
    "plt.figure(figsize=(10,5))\n",
    "sns.lineplot(x=results_df['sample_length'], \n",
    "             y=results_df['f1_score'], \n",
    "             hue=results_df['exploit_value'])\n",
    "plt.legend([round(i, 2) for i in results_df['exploit_value'].unique()])\n",
    "plt.show()"
   ]
  },
  {
   "cell_type": "markdown",
   "metadata": {
    "nbgrader": {
     "grade": false,
     "grade_id": "cell-15f5ef48ebf7958d",
     "locked": true,
     "schema_version": 3,
     "solution": false,
     "task": false
    }
   },
   "source": [
    "You should be able to pull out a few interesting trends here:\n",
    "+ **Increasing sample length dramatically improves f1 score when sample length is low and it begins to taper off before achieving perfect performance**. This should intuitively make sense. If we only sample a few known harmful locations, it makes sense that we would not be able to detect even close to all harmful mutations, whereas if we sample all known harmful locations, we should be able to detect all of them.\n",
    "+ **At low sample size, exploit does a better job of identifying harmful mutations, but as sample sizes increase, using more explore actually outperforms exploit, until they converge as sample length appraoches the full length of all candidate hypotheses**. This should also intuitively make sense - at lower sample sizes we want to prioritize the most frequent harmful mutations, but as sample size increases we want to explore more to cover rarer possibilities. \n",
    "\n",
    "There is still the question of \"Well, how do we choose what do do?\" You'll write some code to help find out! Let's write a function called `choose_best_exploit` that takes in our results dataframe, filters to a given `sample length`, and identifies the exploit value that maximizes mean f1 score. "
   ]
  },
  {
   "cell_type": "code",
   "execution_count": 41,
   "metadata": {
    "nbgrader": {
     "grade": false,
     "grade_id": "cell-7e1255cf08ab1d2d",
     "locked": false,
     "schema_version": 3,
     "solution": true,
     "task": false
    }
   },
   "outputs": [],
   "source": [
    "def choose_best_exploit(df, sample_length):\n",
    "    \n",
    "    ### BEGIN SOLUTION\n",
    "    sample_values = df[df['sample_length'] == sample_length]\n",
    "    sample_values = sample_values.groupby('exploit_value').agg('f1_score').mean().reset_index()\n",
    "    exploit_value = sample_values.loc[sample_values['f1_score'].idxmax()]['exploit_value']\n",
    "    ### END SOLUTION\n",
    "    \n",
    "    return exploit_value\n",
    "    "
   ]
  },
  {
   "cell_type": "code",
   "execution_count": 52,
   "metadata": {
    "nbgrader": {
     "grade": true,
     "grade_id": "cell-8095faaf139a89ad",
     "locked": true,
     "points": 10,
     "schema_version": 3,
     "solution": false,
     "task": false
    }
   },
   "outputs": [],
   "source": [
    "# Here are some tests to help you make sure you've got it. \n",
    "\n",
    "assert choose_best_exploit(results_df, 10) == 1\n",
    "assert choose_best_exploit(results_df, 110) != 1"
   ]
  },
  {
   "cell_type": "code",
   "execution_count": 57,
   "metadata": {
    "nbgrader": {
     "grade": true,
     "grade_id": "cell-757690f3250ab164",
     "locked": true,
     "points": 10,
     "schema_version": 3,
     "solution": false,
     "task": false
    }
   },
   "outputs": [],
   "source": [
    "# A few hidden tests to help us grade. \n",
    "\n",
    "### BEGIN HIDDEN TESTS\n",
    "\n",
    "# Not really sure how best else to make these different since we get noise \n",
    "assert choose_best_exploit(results_df, 10) == 1\n",
    "assert choose_best_exploit(results_df, 110) != 1\n",
    "\n",
    "### END HIDDEN TESTS\n"
   ]
  },
  {
   "cell_type": "code",
   "execution_count": 58,
   "metadata": {
    "nbgrader": {
     "grade": false,
     "grade_id": "cell-342d1ef07b919ad0",
     "locked": true,
     "schema_version": 3,
     "solution": false,
     "task": false
    }
   },
   "outputs": [
    {
     "data": {
      "text/plain": [
       "array([ 10,  30,  50,  70,  90, 110, 130, 150, 170])"
      ]
     },
     "execution_count": 58,
     "metadata": {},
     "output_type": "execute_result"
    }
   ],
   "source": [
    "sample_lengths"
   ]
  },
  {
   "cell_type": "markdown",
   "metadata": {
    "nbgrader": {
     "grade": false,
     "grade_id": "cell-1ef6136bc323a7f6",
     "locked": true,
     "schema_version": 3,
     "solution": false,
     "task": false
    }
   },
   "source": [
    "Let's say it costs \\\\$1 per index location and we want our test to cost \\\\$70. What would be the best explore ratio to use? "
   ]
  },
  {
   "cell_type": "code",
   "execution_count": 59,
   "metadata": {
    "nbgrader": {
     "grade": false,
     "grade_id": "cell-678cb553463830ad",
     "locked": true,
     "schema_version": 3,
     "solution": false,
     "task": false
    }
   },
   "outputs": [
    {
     "data": {
      "text/plain": [
       "0.4"
      ]
     },
     "execution_count": 59,
     "metadata": {},
     "output_type": "execute_result"
    }
   ],
   "source": [
    "choose_best_exploit(results_df, 70)"
   ]
  },
  {
   "cell_type": "markdown",
   "metadata": {
    "nbgrader": {
     "grade": false,
     "grade_id": "cell-fd666cc3c617ca54",
     "locked": true,
     "schema_version": 3,
     "solution": false,
     "task": false
    }
   },
   "source": [
    "Let's assess what the performance actually looks like on this:"
   ]
  },
  {
   "cell_type": "code",
   "execution_count": 71,
   "metadata": {
    "nbgrader": {
     "grade": false,
     "grade_id": "cell-18e83b45bab86054",
     "locked": true,
     "schema_version": 3,
     "solution": false,
     "task": false
    }
   },
   "outputs": [
    {
     "data": {
      "text/plain": [
       "0.8460989100508683"
      ]
     },
     "execution_count": 71,
     "metadata": {},
     "output_type": "execute_result"
    }
   ],
   "source": [
    "results_df[(results_df['sample_length'] == 70) & (results_df['exploit_value'] == 0.4)]['f1_score'].mean()"
   ]
  },
  {
   "cell_type": "markdown",
   "metadata": {
    "nbgrader": {
     "grade": false,
     "grade_id": "cell-3234ebdd34fbcf15",
     "locked": true,
     "schema_version": 3,
     "solution": false,
     "task": false
    }
   },
   "source": [
    "Generally speaking, not bad! That's much better than our first attempt, though still not necessarily perfect. What if we decide to increase to a \\\\$90 sample? "
   ]
  },
  {
   "cell_type": "code",
   "execution_count": 62,
   "metadata": {
    "nbgrader": {
     "grade": false,
     "grade_id": "cell-c3c54c6e59bd5d5a",
     "locked": true,
     "schema_version": 3,
     "solution": false,
     "task": false
    }
   },
   "outputs": [
    {
     "data": {
      "text/plain": [
       "0.4"
      ]
     },
     "execution_count": 62,
     "metadata": {},
     "output_type": "execute_result"
    }
   ],
   "source": [
    "choose_best_exploit(results_df, 90)"
   ]
  },
  {
   "cell_type": "code",
   "execution_count": 70,
   "metadata": {
    "nbgrader": {
     "grade": false,
     "grade_id": "cell-f02e9a98e5535460",
     "locked": true,
     "schema_version": 3,
     "solution": false,
     "task": false
    }
   },
   "outputs": [
    {
     "data": {
      "text/plain": [
       "0.8920145953779695"
      ]
     },
     "execution_count": 70,
     "metadata": {},
     "output_type": "execute_result"
    }
   ],
   "source": [
    "results_df[(results_df['sample_length'] == 90) & (results_df['exploit_value'] == 0.4)]['f1_score'].mean()"
   ]
  },
  {
   "cell_type": "markdown",
   "metadata": {
    "nbgrader": {
     "grade": false,
     "grade_id": "cell-7137ad0db7969b37",
     "locked": true,
     "schema_version": 3,
     "solution": false,
     "task": false
    }
   },
   "source": [
    "It does seem like adding \\\\$20 might be worth it! What if we keep going up?"
   ]
  },
  {
   "cell_type": "code",
   "execution_count": 66,
   "metadata": {
    "nbgrader": {
     "grade": false,
     "grade_id": "cell-27b014e6decee53b",
     "locked": true,
     "schema_version": 3,
     "solution": false,
     "task": false
    }
   },
   "outputs": [
    {
     "data": {
      "text/plain": [
       "0.4"
      ]
     },
     "execution_count": 66,
     "metadata": {},
     "output_type": "execute_result"
    }
   ],
   "source": [
    "choose_best_exploit(results_df, 110)"
   ]
  },
  {
   "cell_type": "code",
   "execution_count": 68,
   "metadata": {
    "nbgrader": {
     "grade": false,
     "grade_id": "cell-d1cd9b90cdc7810e",
     "locked": true,
     "schema_version": 3,
     "solution": false,
     "task": false
    }
   },
   "outputs": [
    {
     "data": {
      "text/plain": [
       "0.9394556578234736"
      ]
     },
     "execution_count": 68,
     "metadata": {},
     "output_type": "execute_result"
    }
   ],
   "source": [
    "results_df[(results_df['sample_length'] == 110) & (results_df['exploit_value'] == 0.4)]['f1_score'].mean()"
   ]
  },
  {
   "cell_type": "markdown",
   "metadata": {
    "nbgrader": {
     "grade": false,
     "grade_id": "cell-00155f316171ff74",
     "locked": true,
     "schema_version": 3,
     "solution": false,
     "task": false
    }
   },
   "source": [
    "We are still seeing improvements - which remember, we should expect. As the sample length increases, we get better precision & recall on  detecting harmful mutations. \n",
    "\n",
    "Remember though, this is a bit of a contrived example - in reality, we would want to test for many thousands if not potentially millions of mutation variations. The difference between spending \\\\$70 vs. \\\\$170 on a blood test in reality would be worth the gains in detection abilities. After all, if you fail to detect a disease and treat it early, you would likely spend much more than \\\\$100 on later treatment, so paying that marginal cost to detect the disease early enough to treat it would be very worth it. However, the vast majority of people cannot pay \\\\$1 million for a blood test, so in order for this kind of test to be commercially viable, it would have to cost much lower, and a decision would need to be made somehow as to what cost and error tolerance balance is acceptable. \n",
    "\n",
    "In conclusion, we hope that this assignment has started to give you more insight into the nuanced challenges of implementing an adaptive sampling algorithm in the domain of genomics. Problems that would benefit from adaptively sampling approaches show up across disciplines, and we hope that this has started to give you an idea of the power of these ideas. "
   ]
  },
  {
   "cell_type": "code",
   "execution_count": null,
   "metadata": {},
   "outputs": [],
   "source": []
  }
 ],
 "metadata": {
  "celltoolbar": "Create Assignment",
  "kernelspec": {
   "display_name": "Python 3",
   "language": "python",
   "name": "python3"
  },
  "language_info": {
   "codemirror_mode": {
    "name": "ipython",
    "version": 3
   },
   "file_extension": ".py",
   "mimetype": "text/x-python",
   "name": "python",
   "nbconvert_exporter": "python",
   "pygments_lexer": "ipython3",
   "version": "3.7.6"
  }
 },
 "nbformat": 4,
 "nbformat_minor": 4
}
