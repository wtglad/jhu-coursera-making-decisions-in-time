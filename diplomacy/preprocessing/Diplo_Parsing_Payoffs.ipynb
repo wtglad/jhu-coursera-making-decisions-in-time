{
 "cells": [
  {
   "cell_type": "code",
   "execution_count": 2,
   "metadata": {
    "colab": {
     "base_uri": "https://localhost:8080/"
    },
    "id": "_SH4trTY_MIy",
    "outputId": "230aad1d-915d-4ab4-b080-2bd47bc731ce"
   },
   "outputs": [
    {
     "name": "stdout",
     "output_type": "stream",
     "text": [
      "Mounted at /content/drive\n"
     ]
    }
   ],
   "source": [
    "import os \n",
    "import pandas as pd\n",
    "from google.colab import drive\n",
    "drive.mount('/content/drive')"
   ]
  },
  {
   "cell_type": "code",
   "execution_count": 11,
   "metadata": {
    "id": "m3ZoPBBHA1q9"
   },
   "outputs": [],
   "source": [
    "from progressbar import ProgressBar\n",
    "import math\n",
    "import numpy as np\n",
    "import pickle "
   ]
  },
  {
   "cell_type": "code",
   "execution_count": 2,
   "metadata": {
    "id": "GchB-Iuv_M7m"
   },
   "outputs": [],
   "source": [
    "folders = []\n",
    "\n",
    "for i in os.listdir('/content/drive/MyDrive/Diplomacy/game-states-batch1/'):\n",
    "  folders.append(['/content/drive/MyDrive/Diplomacy/game-states-batch1/', i])"
   ]
  },
  {
   "cell_type": "code",
   "execution_count": 7,
   "metadata": {
    "colab": {
     "base_uri": "https://localhost:8080/"
    },
    "id": "nQfrl1pi_bqo",
    "outputId": "2a2f2559-ec4f-4bf1-9bfc-464b37389f53"
   },
   "outputs": [
    {
     "name": "stderr",
     "output_type": "stream",
     "text": [
      "100% (3829 of 3829) |####################| Elapsed Time: 0:03:49 Time:  0:03:49\n"
     ]
    }
   ],
   "source": [
    "files = []\n",
    "pbar = ProgressBar()\n",
    "\n",
    "for folder in pbar(folders):\n",
    "  for file in os.listdir(folder[0] + folder[1]):\n",
    "    if 'payoff' in file:\n",
    "      files.append([folder[0], folder[1], file])"
   ]
  },
  {
   "cell_type": "code",
   "execution_count": 10,
   "metadata": {
    "id": "hdpjnYdf_cku"
   },
   "outputs": [],
   "source": [
    "file_df = pd.DataFrame(files, columns = ['parent_dir', 'game_id', 'file'])"
   ]
  },
  {
   "cell_type": "code",
   "execution_count": 11,
   "metadata": {
    "colab": {
     "base_uri": "https://localhost:8080/",
     "height": 424
    },
    "id": "2eYzDS4mDi_o",
    "outputId": "63eb5bd1-b331-498e-df5a-ac47d300b821"
   },
   "outputs": [
    {
     "data": {
      "text/html": [
       "\n",
       "  <div id=\"df-06530c89-0107-4f59-8e72-1068e9b574f3\">\n",
       "    <div class=\"colab-df-container\">\n",
       "      <div>\n",
       "<style scoped>\n",
       "    .dataframe tbody tr th:only-of-type {\n",
       "        vertical-align: middle;\n",
       "    }\n",
       "\n",
       "    .dataframe tbody tr th {\n",
       "        vertical-align: top;\n",
       "    }\n",
       "\n",
       "    .dataframe thead th {\n",
       "        text-align: right;\n",
       "    }\n",
       "</style>\n",
       "<table border=\"1\" class=\"dataframe\">\n",
       "  <thead>\n",
       "    <tr style=\"text-align: right;\">\n",
       "      <th></th>\n",
       "      <th>parent_dir</th>\n",
       "      <th>game_id</th>\n",
       "      <th>file</th>\n",
       "    </tr>\n",
       "  </thead>\n",
       "  <tbody>\n",
       "    <tr>\n",
       "      <th>0</th>\n",
       "      <td>/content/drive/MyDrive/Diplomacy/game-states-b...</td>\n",
       "      <td>111483</td>\n",
       "      <td>20 - S1906M - alliance_attacker_payoffs.csv</td>\n",
       "    </tr>\n",
       "    <tr>\n",
       "      <th>1</th>\n",
       "      <td>/content/drive/MyDrive/Diplomacy/game-states-b...</td>\n",
       "      <td>111483</td>\n",
       "      <td>21 - F1906M - alliance_attacker_payoffs.csv</td>\n",
       "    </tr>\n",
       "    <tr>\n",
       "      <th>2</th>\n",
       "      <td>/content/drive/MyDrive/Diplomacy/game-states-b...</td>\n",
       "      <td>111483</td>\n",
       "      <td>1 - S1901M - alliance_attacker_payoffs.csv</td>\n",
       "    </tr>\n",
       "    <tr>\n",
       "      <th>3</th>\n",
       "      <td>/content/drive/MyDrive/Diplomacy/game-states-b...</td>\n",
       "      <td>111483</td>\n",
       "      <td>2 - F1901M - alliance_attacker_payoffs.csv</td>\n",
       "    </tr>\n",
       "    <tr>\n",
       "      <th>4</th>\n",
       "      <td>/content/drive/MyDrive/Diplomacy/game-states-b...</td>\n",
       "      <td>111483</td>\n",
       "      <td>4 - S1902M - alliance_attacker_payoffs.csv</td>\n",
       "    </tr>\n",
       "    <tr>\n",
       "      <th>...</th>\n",
       "      <td>...</td>\n",
       "      <td>...</td>\n",
       "      <td>...</td>\n",
       "    </tr>\n",
       "    <tr>\n",
       "      <th>65329</th>\n",
       "      <td>/content/drive/MyDrive/Diplomacy/game-states-b...</td>\n",
       "      <td>112901</td>\n",
       "      <td>52 - S1914M - alliance_attacker_payoffs.csv</td>\n",
       "    </tr>\n",
       "    <tr>\n",
       "      <th>65330</th>\n",
       "      <td>/content/drive/MyDrive/Diplomacy/game-states-b...</td>\n",
       "      <td>112901</td>\n",
       "      <td>53 - F1914M - alliance_attacker_payoffs.csv</td>\n",
       "    </tr>\n",
       "    <tr>\n",
       "      <th>65331</th>\n",
       "      <td>/content/drive/MyDrive/Diplomacy/game-states-b...</td>\n",
       "      <td>112901</td>\n",
       "      <td>54 - S1915M - alliance_attacker_payoffs.csv</td>\n",
       "    </tr>\n",
       "    <tr>\n",
       "      <th>65332</th>\n",
       "      <td>/content/drive/MyDrive/Diplomacy/game-states-b...</td>\n",
       "      <td>112901</td>\n",
       "      <td>55 - F1915M - alliance_attacker_payoffs.csv</td>\n",
       "    </tr>\n",
       "    <tr>\n",
       "      <th>65333</th>\n",
       "      <td>/content/drive/MyDrive/Diplomacy/game-states-b...</td>\n",
       "      <td>112901</td>\n",
       "      <td>56 - S1916M - alliance_attacker_payoffs.csv</td>\n",
       "    </tr>\n",
       "  </tbody>\n",
       "</table>\n",
       "<p>65334 rows × 3 columns</p>\n",
       "</div>\n",
       "      <button class=\"colab-df-convert\" onclick=\"convertToInteractive('df-06530c89-0107-4f59-8e72-1068e9b574f3')\"\n",
       "              title=\"Convert this dataframe to an interactive table.\"\n",
       "              style=\"display:none;\">\n",
       "        \n",
       "  <svg xmlns=\"http://www.w3.org/2000/svg\" height=\"24px\"viewBox=\"0 0 24 24\"\n",
       "       width=\"24px\">\n",
       "    <path d=\"M0 0h24v24H0V0z\" fill=\"none\"/>\n",
       "    <path d=\"M18.56 5.44l.94 2.06.94-2.06 2.06-.94-2.06-.94-.94-2.06-.94 2.06-2.06.94zm-11 1L8.5 8.5l.94-2.06 2.06-.94-2.06-.94L8.5 2.5l-.94 2.06-2.06.94zm10 10l.94 2.06.94-2.06 2.06-.94-2.06-.94-.94-2.06-.94 2.06-2.06.94z\"/><path d=\"M17.41 7.96l-1.37-1.37c-.4-.4-.92-.59-1.43-.59-.52 0-1.04.2-1.43.59L10.3 9.45l-7.72 7.72c-.78.78-.78 2.05 0 2.83L4 21.41c.39.39.9.59 1.41.59.51 0 1.02-.2 1.41-.59l7.78-7.78 2.81-2.81c.8-.78.8-2.07 0-2.86zM5.41 20L4 18.59l7.72-7.72 1.47 1.35L5.41 20z\"/>\n",
       "  </svg>\n",
       "      </button>\n",
       "      \n",
       "  <style>\n",
       "    .colab-df-container {\n",
       "      display:flex;\n",
       "      flex-wrap:wrap;\n",
       "      gap: 12px;\n",
       "    }\n",
       "\n",
       "    .colab-df-convert {\n",
       "      background-color: #E8F0FE;\n",
       "      border: none;\n",
       "      border-radius: 50%;\n",
       "      cursor: pointer;\n",
       "      display: none;\n",
       "      fill: #1967D2;\n",
       "      height: 32px;\n",
       "      padding: 0 0 0 0;\n",
       "      width: 32px;\n",
       "    }\n",
       "\n",
       "    .colab-df-convert:hover {\n",
       "      background-color: #E2EBFA;\n",
       "      box-shadow: 0px 1px 2px rgba(60, 64, 67, 0.3), 0px 1px 3px 1px rgba(60, 64, 67, 0.15);\n",
       "      fill: #174EA6;\n",
       "    }\n",
       "\n",
       "    [theme=dark] .colab-df-convert {\n",
       "      background-color: #3B4455;\n",
       "      fill: #D2E3FC;\n",
       "    }\n",
       "\n",
       "    [theme=dark] .colab-df-convert:hover {\n",
       "      background-color: #434B5C;\n",
       "      box-shadow: 0px 1px 3px 1px rgba(0, 0, 0, 0.15);\n",
       "      filter: drop-shadow(0px 1px 2px rgba(0, 0, 0, 0.3));\n",
       "      fill: #FFFFFF;\n",
       "    }\n",
       "  </style>\n",
       "\n",
       "      <script>\n",
       "        const buttonEl =\n",
       "          document.querySelector('#df-06530c89-0107-4f59-8e72-1068e9b574f3 button.colab-df-convert');\n",
       "        buttonEl.style.display =\n",
       "          google.colab.kernel.accessAllowed ? 'block' : 'none';\n",
       "\n",
       "        async function convertToInteractive(key) {\n",
       "          const element = document.querySelector('#df-06530c89-0107-4f59-8e72-1068e9b574f3');\n",
       "          const dataTable =\n",
       "            await google.colab.kernel.invokeFunction('convertToInteractive',\n",
       "                                                     [key], {});\n",
       "          if (!dataTable) return;\n",
       "\n",
       "          const docLinkHtml = 'Like what you see? Visit the ' +\n",
       "            '<a target=\"_blank\" href=https://colab.research.google.com/notebooks/data_table.ipynb>data table notebook</a>'\n",
       "            + ' to learn more about interactive tables.';\n",
       "          element.innerHTML = '';\n",
       "          dataTable['output_type'] = 'display_data';\n",
       "          await google.colab.output.renderOutput(dataTable, element);\n",
       "          const docLink = document.createElement('div');\n",
       "          docLink.innerHTML = docLinkHtml;\n",
       "          element.appendChild(docLink);\n",
       "        }\n",
       "      </script>\n",
       "    </div>\n",
       "  </div>\n",
       "  "
      ],
      "text/plain": [
       "                                              parent_dir game_id  \\\n",
       "0      /content/drive/MyDrive/Diplomacy/game-states-b...  111483   \n",
       "1      /content/drive/MyDrive/Diplomacy/game-states-b...  111483   \n",
       "2      /content/drive/MyDrive/Diplomacy/game-states-b...  111483   \n",
       "3      /content/drive/MyDrive/Diplomacy/game-states-b...  111483   \n",
       "4      /content/drive/MyDrive/Diplomacy/game-states-b...  111483   \n",
       "...                                                  ...     ...   \n",
       "65329  /content/drive/MyDrive/Diplomacy/game-states-b...  112901   \n",
       "65330  /content/drive/MyDrive/Diplomacy/game-states-b...  112901   \n",
       "65331  /content/drive/MyDrive/Diplomacy/game-states-b...  112901   \n",
       "65332  /content/drive/MyDrive/Diplomacy/game-states-b...  112901   \n",
       "65333  /content/drive/MyDrive/Diplomacy/game-states-b...  112901   \n",
       "\n",
       "                                              file  \n",
       "0      20 - S1906M - alliance_attacker_payoffs.csv  \n",
       "1      21 - F1906M - alliance_attacker_payoffs.csv  \n",
       "2       1 - S1901M - alliance_attacker_payoffs.csv  \n",
       "3       2 - F1901M - alliance_attacker_payoffs.csv  \n",
       "4       4 - S1902M - alliance_attacker_payoffs.csv  \n",
       "...                                            ...  \n",
       "65329  52 - S1914M - alliance_attacker_payoffs.csv  \n",
       "65330  53 - F1914M - alliance_attacker_payoffs.csv  \n",
       "65331  54 - S1915M - alliance_attacker_payoffs.csv  \n",
       "65332  55 - F1915M - alliance_attacker_payoffs.csv  \n",
       "65333  56 - S1916M - alliance_attacker_payoffs.csv  \n",
       "\n",
       "[65334 rows x 3 columns]"
      ]
     },
     "execution_count": 11,
     "metadata": {},
     "output_type": "execute_result"
    }
   ],
   "source": [
    "file_df"
   ]
  },
  {
   "cell_type": "code",
   "execution_count": 12,
   "metadata": {
    "id": "-xNvGIMlDySx"
   },
   "outputs": [],
   "source": [
    "game_id = file_df['game_id'].iloc[0]"
   ]
  },
  {
   "cell_type": "code",
   "execution_count": 13,
   "metadata": {
    "colab": {
     "base_uri": "https://localhost:8080/",
     "height": 35
    },
    "id": "k924YRkAH2CJ",
    "outputId": "4c0792d7-4d1b-4470-c70f-6374d5c06e87"
   },
   "outputs": [
    {
     "data": {
      "application/vnd.google.colaboratory.intrinsic+json": {
       "type": "string"
      },
      "text/plain": [
       "'111483'"
      ]
     },
     "execution_count": 13,
     "metadata": {},
     "output_type": "execute_result"
    }
   ],
   "source": [
    "game_id"
   ]
  },
  {
   "cell_type": "code",
   "execution_count": 17,
   "metadata": {
    "id": "2k39XnIIH20S"
   },
   "outputs": [],
   "source": [
    "game_files = file_df[file_df['game_id'] == game_id].reset_index(drop=True)"
   ]
  },
  {
   "cell_type": "code",
   "execution_count": 110,
   "metadata": {
    "colab": {
     "base_uri": "https://localhost:8080/"
    },
    "id": "hhAX7ZBIH5Ci",
    "outputId": "f536981b-8557-442f-c958-64af355b0fba"
   },
   "outputs": [
    {
     "name": "stderr",
     "output_type": "stream",
     "text": [
      "100% (3810 of 3810) |####################| Elapsed Time: 3:13:36 Time:  3:13:36\n"
     ]
    }
   ],
   "source": [
    "payoff_dict = {}\n",
    "pbar = ProgressBar()\n",
    "\n",
    "for game_id in pbar(file_df['game_id'].unique()):\n",
    "  \n",
    "  game_files = file_df[file_df['game_id'] == game_id].reset_index(drop=True)\n",
    "\n",
    "  for i in game_files.index:\n",
    "      row = game_files.iloc[i]\n",
    "      phase = row['file'].split('-')[1].strip()\n",
    "      phase_payoffs = pd.read_csv(row['parent_dir'] + game_id + '/' + row['file'])\n",
    "\n",
    "      phase_payoffs = phase_payoffs[phase_payoffs['power'].notnull()].reset_index(drop=True)\n",
    "\n",
    "      for power in phase_payoffs['power'].to_list():\n",
    "        \n",
    "        if power not in payoff_dict.keys():\n",
    "          payoff_dict[power] = {}\n",
    "\n",
    "        if phase not in payoff_dict[power].keys():\n",
    "          payoff_dict[power][phase] = {}\n",
    "\n",
    "        cooperates = phase_payoffs[phase_payoffs['power'] == power]['cooperates'].iloc[0]\n",
    "        if pd.isnull(cooperates):\n",
    "          cooperates = frozenset()\n",
    "        if len(cooperates) > 0:\n",
    "          cooperates = frozenset(set(eval(cooperates)))\n",
    "\n",
    "        attacks = phase_payoffs[phase_payoffs['power'] == power]['attacks'].iloc[0]\n",
    "        if pd.isnull(attacks):\n",
    "          attacks = frozenset()\n",
    "        if len(attacks) > 0:\n",
    "          attacks = frozenset(set(eval(attacks)))\n",
    "\n",
    "        if (cooperates, attacks) not in payoff_dict[power][phase].keys():\n",
    "          payoff_dict[power][phase][(cooperates, attacks)] = []\n",
    "\n",
    "        payoff = phase_payoffs[phase_payoffs['power'] == power]['payoff'].iloc[0]\n",
    "        payoff_dict[power][phase][(cooperates, attacks)].append(payoff)"
   ]
  },
  {
   "cell_type": "code",
   "execution_count": 111,
   "metadata": {
    "id": "WIp77tnkObiJ"
   },
   "outputs": [],
   "source": [
    "\n",
    "with open('/content/drive/MyDrive/Diplomacy/game-states-batch1-payoff_dictionary.pkl', 'wb') as f:\n",
    "    pickle.dump(payoff_dict, f)"
   ]
  },
  {
   "cell_type": "code",
   "execution_count": 5,
   "metadata": {
    "id": "C23bHbMPUb4I"
   },
   "outputs": [],
   "source": [
    "with open('/content/drive/MyDrive/Diplomacy/game-states-batch1-payoff_dictionary.pkl', 'rb') as f:\n",
    "    payoff_dict = pickle.load(f)"
   ]
  },
  {
   "cell_type": "code",
   "execution_count": null,
   "metadata": {},
   "outputs": [],
   "source": [
    "# Get full distribution of payoffs\n",
    "\n",
    "pbar = ProgressBar()\n",
    "all_payoffs = []\n",
    "\n",
    "for power in pbar(payoff_dict.keys()):\n",
    "  for phase in payoff_dict[power].keys():\n",
    "    for coop, attack in payoff_dict[power][phase].keys():\n",
    "      payoff_df = pd.DataFrame(payoff_dict[power][phase][(coop, attack)], columns = ['payoff'])\n",
    "      payoff_df['power'] = power\n",
    "      payoff_df['phase'] = phase\n",
    "      payoff_df['coop'] = str(coop)\n",
    "      payoff_df['attack'] = str(attack)\n",
    "      all_payoffs.append(payoff_df)\n",
    "\n",
    "all_payoff_df = pd.concat(all_payoffs, ignore_index=True)\n",
    "\n",
    "all_payoff_df['coop'] = all_payoff_df['coop'].apply(lambda x: set(eval(x)))\n",
    "all_payoff_df['attack'] = all_payoff_df['attack'].apply(lambda x: set(eval(x)))\n",
    "\n",
    "all_payoff_df['phase-month'] = all_payoff_df['phase'].apply(lambda x: 3 if x[0] == 'S' else 9)\n",
    "all_payoff_df['year'] = all_payoff_df['phase'].apply(lambda x: x[1:-1])\n",
    "all_payoff_df = all_payoff_df.sort_values(by=['year', 'phase-month', 'power'])\n",
    "all_payoff_df.to_csv('/content/drive/MyDrive/Diplomacy/all_game_payoffs.csv', index=False)"
   ]
  },
  {
   "cell_type": "code",
   "execution_count": 20,
   "metadata": {
    "id": "bGGajWlHkt3W"
   },
   "outputs": [],
   "source": [
    "# Take mean of payoff for aggregated version\n",
    "\n",
    "\n",
    "payoffs = []\n",
    "\n",
    "for power in payoff_dict.keys():\n",
    "  for phase in payoff_dict[power].keys():\n",
    "    for coop, attack in payoff_dict[power][phase].keys():\n",
    "      payoffs.append([power, phase, coop, attack, len(payoff_dict[power][phase][(coop, attack)]), np.mean(payoff_dict[power][phase][(coop, attack)])])"
   ]
  },
  {
   "cell_type": "code",
   "execution_count": 21,
   "metadata": {
    "id": "wdPDPlKwlV22"
   },
   "outputs": [],
   "source": [
    "df = pd.DataFrame(payoffs, columns = ['power', 'phase', 'cooperate', 'attack', 'n_obs', 'mean_payoff'])"
   ]
  },
  {
   "cell_type": "code",
   "execution_count": 35,
   "metadata": {
    "id": "Aq8jQaSJn9SP"
   },
   "outputs": [],
   "source": [
    "df['phase-month'] = df['phase'].apply(lambda x: 3 if x[0] == 'S' else 9)\n",
    "df['year'] = df['phase'].apply(lambda x: x[1:-1])"
   ]
  },
  {
   "cell_type": "code",
   "execution_count": 37,
   "metadata": {
    "id": "9Cs7ax5BoZgg"
   },
   "outputs": [],
   "source": [
    "df = df.sort_values(by=['year', 'phase-month', 'power'])"
   ]
  },
  {
   "cell_type": "code",
   "execution_count": 38,
   "metadata": {
    "id": "et_u4cY-nE9-"
   },
   "outputs": [],
   "source": [
    "df.to_csv('/content/drive/MyDrive/Diplomacy/payoffs.csv', index=False)"
   ]
  },
  {
   "cell_type": "code",
   "execution_count": null,
   "metadata": {
    "id": "-WZQV0YxnQhO"
   },
   "outputs": [],
   "source": []
  }
 ],
 "metadata": {
  "colab": {
   "provenance": []
  },
  "kernelspec": {
   "display_name": "Python 3",
   "language": "python",
   "name": "python3"
  },
  "language_info": {
   "codemirror_mode": {
    "name": "ipython",
    "version": 3
   },
   "file_extension": ".py",
   "mimetype": "text/x-python",
   "name": "python",
   "nbconvert_exporter": "python",
   "pygments_lexer": "ipython3",
   "version": "3.8.4rc1"
  }
 },
 "nbformat": 4,
 "nbformat_minor": 4
}
